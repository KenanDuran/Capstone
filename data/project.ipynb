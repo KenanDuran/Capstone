{
 "cells": [
  {
   "cell_type": "code",
   "execution_count": 30,
   "id": "136c6df4",
   "metadata": {},
   "outputs": [],
   "source": [
    "import pandas as pd\n",
    "#pd.set_option('display.max_rows', None) "
   ]
  },
  {
   "cell_type": "code",
   "execution_count": 31,
   "id": "6dab92db",
   "metadata": {},
   "outputs": [
    {
     "name": "stderr",
     "output_type": "stream",
     "text": [
      "/var/folders/w_/l5_6k0ks44j93c_h19c7c9qh0000gn/T/ipykernel_7322/624789121.py:3: DtypeWarning: Columns (70,72) have mixed types. Specify dtype option on import or set low_memory=False.\n",
      "  exam = pd.read_csv('/Users/harunabi/Documents/Capstone/data/examination.csv')\n",
      "/var/folders/w_/l5_6k0ks44j93c_h19c7c9qh0000gn/T/ipykernel_7322/624789121.py:5: DtypeWarning: Columns (758,759,776,777) have mixed types. Specify dtype option on import or set low_memory=False.\n",
      "  quest = pd.read_csv('/Users/harunabi/Documents/Capstone/data/questionnaire.csv')\n"
     ]
    }
   ],
   "source": [
    "demo = pd.read_csv('/Users/harunabi/Documents/Capstone/data/demographics.csv')\n",
    "diet = pd.read_csv('/Users/harunabi/Documents/Capstone/data/dietary.csv')\n",
    "exam = pd.read_csv('/Users/harunabi/Documents/Capstone/data/examination.csv')\n",
    "lab = pd.read_csv('/Users/harunabi/Documents/Capstone/data/laboratory.csv')\n",
    "quest = pd.read_csv('/Users/harunabi/Documents/Capstone/data/questionnaire.csv')"
   ]
  },
  {
   "cell_type": "code",
   "execution_count": 32,
   "id": "6b23cb42",
   "metadata": {},
   "outputs": [
    {
     "data": {
      "text/html": [
       "<div>\n",
       "<style scoped>\n",
       "    .dataframe tbody tr th:only-of-type {\n",
       "        vertical-align: middle;\n",
       "    }\n",
       "\n",
       "    .dataframe tbody tr th {\n",
       "        vertical-align: top;\n",
       "    }\n",
       "\n",
       "    .dataframe thead th {\n",
       "        text-align: right;\n",
       "    }\n",
       "</style>\n",
       "<table border=\"1\" class=\"dataframe\">\n",
       "  <thead>\n",
       "    <tr style=\"text-align: right;\">\n",
       "      <th></th>\n",
       "      <th>SEQN</th>\n",
       "      <th>SDDSRVYR</th>\n",
       "      <th>RIDSTATR</th>\n",
       "      <th>RIAGENDR</th>\n",
       "      <th>RIDAGEYR</th>\n",
       "      <th>RIDAGEMN</th>\n",
       "      <th>RIDRETH1</th>\n",
       "      <th>RIDRETH3</th>\n",
       "      <th>RIDEXMON</th>\n",
       "      <th>RIDEXAGM</th>\n",
       "      <th>...</th>\n",
       "      <th>DMDHREDU</th>\n",
       "      <th>DMDHRMAR</th>\n",
       "      <th>DMDHSEDU</th>\n",
       "      <th>WTINT2YR</th>\n",
       "      <th>WTMEC2YR</th>\n",
       "      <th>SDMVPSU</th>\n",
       "      <th>SDMVSTRA</th>\n",
       "      <th>INDHHIN2</th>\n",
       "      <th>INDFMIN2</th>\n",
       "      <th>INDFMPIR</th>\n",
       "    </tr>\n",
       "  </thead>\n",
       "  <tbody>\n",
       "    <tr>\n",
       "      <th>0</th>\n",
       "      <td>83732.0</td>\n",
       "      <td>9.0</td>\n",
       "      <td>2.0</td>\n",
       "      <td>1.0</td>\n",
       "      <td>62.0</td>\n",
       "      <td>NaN</td>\n",
       "      <td>3.0</td>\n",
       "      <td>3.0</td>\n",
       "      <td>1.0</td>\n",
       "      <td>NaN</td>\n",
       "      <td>...</td>\n",
       "      <td>5.0</td>\n",
       "      <td>1.0</td>\n",
       "      <td>3.0</td>\n",
       "      <td>134671.370419</td>\n",
       "      <td>135629.507405</td>\n",
       "      <td>1.0</td>\n",
       "      <td>125.0</td>\n",
       "      <td>10.0</td>\n",
       "      <td>10.0</td>\n",
       "      <td>4.39</td>\n",
       "    </tr>\n",
       "    <tr>\n",
       "      <th>1</th>\n",
       "      <td>83733.0</td>\n",
       "      <td>9.0</td>\n",
       "      <td>2.0</td>\n",
       "      <td>1.0</td>\n",
       "      <td>53.0</td>\n",
       "      <td>NaN</td>\n",
       "      <td>3.0</td>\n",
       "      <td>3.0</td>\n",
       "      <td>1.0</td>\n",
       "      <td>NaN</td>\n",
       "      <td>...</td>\n",
       "      <td>3.0</td>\n",
       "      <td>3.0</td>\n",
       "      <td>NaN</td>\n",
       "      <td>24328.560239</td>\n",
       "      <td>25282.425927</td>\n",
       "      <td>1.0</td>\n",
       "      <td>125.0</td>\n",
       "      <td>4.0</td>\n",
       "      <td>4.0</td>\n",
       "      <td>1.32</td>\n",
       "    </tr>\n",
       "    <tr>\n",
       "      <th>2</th>\n",
       "      <td>83734.0</td>\n",
       "      <td>9.0</td>\n",
       "      <td>2.0</td>\n",
       "      <td>1.0</td>\n",
       "      <td>78.0</td>\n",
       "      <td>NaN</td>\n",
       "      <td>3.0</td>\n",
       "      <td>3.0</td>\n",
       "      <td>2.0</td>\n",
       "      <td>NaN</td>\n",
       "      <td>...</td>\n",
       "      <td>3.0</td>\n",
       "      <td>1.0</td>\n",
       "      <td>3.0</td>\n",
       "      <td>12400.008522</td>\n",
       "      <td>12575.838818</td>\n",
       "      <td>1.0</td>\n",
       "      <td>131.0</td>\n",
       "      <td>5.0</td>\n",
       "      <td>5.0</td>\n",
       "      <td>1.51</td>\n",
       "    </tr>\n",
       "    <tr>\n",
       "      <th>3</th>\n",
       "      <td>83735.0</td>\n",
       "      <td>9.0</td>\n",
       "      <td>2.0</td>\n",
       "      <td>2.0</td>\n",
       "      <td>56.0</td>\n",
       "      <td>NaN</td>\n",
       "      <td>3.0</td>\n",
       "      <td>3.0</td>\n",
       "      <td>2.0</td>\n",
       "      <td>NaN</td>\n",
       "      <td>...</td>\n",
       "      <td>5.0</td>\n",
       "      <td>6.0</td>\n",
       "      <td>NaN</td>\n",
       "      <td>102717.995647</td>\n",
       "      <td>102078.634508</td>\n",
       "      <td>1.0</td>\n",
       "      <td>131.0</td>\n",
       "      <td>10.0</td>\n",
       "      <td>10.0</td>\n",
       "      <td>5.00</td>\n",
       "    </tr>\n",
       "    <tr>\n",
       "      <th>4</th>\n",
       "      <td>83736.0</td>\n",
       "      <td>9.0</td>\n",
       "      <td>2.0</td>\n",
       "      <td>2.0</td>\n",
       "      <td>42.0</td>\n",
       "      <td>NaN</td>\n",
       "      <td>4.0</td>\n",
       "      <td>4.0</td>\n",
       "      <td>2.0</td>\n",
       "      <td>NaN</td>\n",
       "      <td>...</td>\n",
       "      <td>4.0</td>\n",
       "      <td>3.0</td>\n",
       "      <td>NaN</td>\n",
       "      <td>17627.674984</td>\n",
       "      <td>18234.736219</td>\n",
       "      <td>2.0</td>\n",
       "      <td>126.0</td>\n",
       "      <td>7.0</td>\n",
       "      <td>7.0</td>\n",
       "      <td>1.23</td>\n",
       "    </tr>\n",
       "  </tbody>\n",
       "</table>\n",
       "<p>5 rows × 47 columns</p>\n",
       "</div>"
      ],
      "text/plain": [
       "      SEQN  SDDSRVYR  RIDSTATR  RIAGENDR  RIDAGEYR  RIDAGEMN  RIDRETH1  \\\n",
       "0  83732.0       9.0       2.0       1.0      62.0       NaN       3.0   \n",
       "1  83733.0       9.0       2.0       1.0      53.0       NaN       3.0   \n",
       "2  83734.0       9.0       2.0       1.0      78.0       NaN       3.0   \n",
       "3  83735.0       9.0       2.0       2.0      56.0       NaN       3.0   \n",
       "4  83736.0       9.0       2.0       2.0      42.0       NaN       4.0   \n",
       "\n",
       "   RIDRETH3  RIDEXMON  RIDEXAGM  ...  DMDHREDU  DMDHRMAR  DMDHSEDU  \\\n",
       "0       3.0       1.0       NaN  ...       5.0       1.0       3.0   \n",
       "1       3.0       1.0       NaN  ...       3.0       3.0       NaN   \n",
       "2       3.0       2.0       NaN  ...       3.0       1.0       3.0   \n",
       "3       3.0       2.0       NaN  ...       5.0       6.0       NaN   \n",
       "4       4.0       2.0       NaN  ...       4.0       3.0       NaN   \n",
       "\n",
       "        WTINT2YR       WTMEC2YR  SDMVPSU  SDMVSTRA  INDHHIN2  INDFMIN2  \\\n",
       "0  134671.370419  135629.507405      1.0     125.0      10.0      10.0   \n",
       "1   24328.560239   25282.425927      1.0     125.0       4.0       4.0   \n",
       "2   12400.008522   12575.838818      1.0     131.0       5.0       5.0   \n",
       "3  102717.995647  102078.634508      1.0     131.0      10.0      10.0   \n",
       "4   17627.674984   18234.736219      2.0     126.0       7.0       7.0   \n",
       "\n",
       "   INDFMPIR  \n",
       "0      4.39  \n",
       "1      1.32  \n",
       "2      1.51  \n",
       "3      5.00  \n",
       "4      1.23  \n",
       "\n",
       "[5 rows x 47 columns]"
      ]
     },
     "execution_count": 32,
     "metadata": {},
     "output_type": "execute_result"
    }
   ],
   "source": [
    "demo.head()"
   ]
  },
  {
   "cell_type": "code",
   "execution_count": 33,
   "id": "e0f3c289",
   "metadata": {},
   "outputs": [],
   "source": [
    "quest_var = pd.read_excel('/Users/harunabi/Documents/Capstone/data/questionnaire_variables.xlsx')\n"
   ]
  },
  {
   "cell_type": "code",
   "execution_count": 34,
   "id": "69ba1294",
   "metadata": {},
   "outputs": [],
   "source": [
    "\n",
    "# demo_var = pd.read_excel(\"../data/demographics_variables.xlsx\").iloc[:,0:2]\n",
    "\n",
    "# diet_var = pd.read_excel(\"../data/dietary_variables.xlsx\").iloc[:,0:2]\n",
    "\n",
    "# exam_var = pd.read_excel(\"../data/examination_variables.xlsx\")\n",
    "\n",
    "# lab_var = pd.read_excel(\"../data/laboratory_variables.xlsx\")\n",
    "\n",
    "# quest_var = pd.read_excel(\"../data/questionnaire_variables.xlsx\")"
   ]
  },
  {
   "cell_type": "code",
   "execution_count": 35,
   "id": "850df577",
   "metadata": {},
   "outputs": [],
   "source": [
    "demo_clean = demo.loc[:,[\n",
    "    \"SEQN\",                 # ID\n",
    "    \"RIAGENDR\",             # Gender\n",
    "    \"RIDAGEYR\",             # Age\n",
    "    \"RIDRETH3\",             # Ethnicity\n",
    "    \"DMDBORN4\",             # Country of Birth\n",
    "    \"DMDCITZN\",             # US-Citizenship\n",
    "    \"DMDEDUC2\",             # Highschool Grad?\n",
    "    \"DMDEDUC3\",             # College Degree?\n",
    "    \"DMDHHSIZ\",             # Household Size\n",
    "    \"DMDHHSZA\",             # No of Kids < 6 yr in Household?\n",
    "    \"DMDHHSZB\",             # No of Kids between 6 and 17\n",
    "    \"INDFMIN2\",             # Total family Income\n",
    "    \"RIDEXPRG\"              # Pregnancy status\n",
    "    ]]\n",
    "demo_columns = {\n",
    "    \"SEQN\" : \"ID\",\n",
    "    \"RIAGENDR\": \"gender\",\n",
    "    \"RIDAGEYR\": \"age\",\n",
    "    \"RIDRETH3\": \"ethnicity\",\n",
    "    \"DMDBORN4\": \"country_of_birth\",\n",
    "    \"DMDCITZN\": \"us_citizen\",\n",
    "    \"DMDEDUC2\": \"high_school_deg\",\n",
    "    \"DMDEDUC3\": \"college_deg\",\n",
    "    \"DMDHHSIZ\": \"household_size\",\n",
    "    \"DMDHHSZA\": \"no_of_kids_u6\",\n",
    "    \"DMDHHSZB\": \"no_of_kids_btw_6_17\",\n",
    "    \"INDFMIN2\": \"total_income\",\n",
    "    \"RIDEXPRG\": \"pregnancy_status\"\n",
    "    }\n",
    "demo_clean.rename(columns=demo_columns, inplace = True)\n"
   ]
  },
  {
   "cell_type": "code",
   "execution_count": 36,
   "id": "c7d62fb0",
   "metadata": {},
   "outputs": [],
   "source": [
    "\n",
    "\n",
    "diet_clean = diet.loc[:,[\n",
    "    'SEQN',                 # ID\n",
    "    'DR1TKCAL',             # Total Calories\n",
    "    'DR1TPROT',             # Total Protein\n",
    "    'DR1TCARB',             # Total Carbohydrates\n",
    "    'DR1TSUGR',             # Total Sugar\n",
    "    'DR1_320Z',             # Total Water drank\n",
    "    'DR1TTFAT',             # Total Fat\n",
    "    'DR1TMFAT',             # MUFA\n",
    "    'DR1TPFAT',             # PUFA\n",
    "    'DR1TCHOL',             # Cholesterin\n",
    "    'DR1TFIBE',             # Total Fiber\n",
    "    'DR1TALCO',             # Total Alcohol\n",
    "    'DR1TVARA',             # Vit A\n",
    "    'DR1TVB1',              # Vit B1 (Thiamin)\n",
    "    'DR1TVB2',              # Vit B2 (Riboflavin)\n",
    "    'DR1TNIAC',             # Vit B3 (Niacin)\n",
    "    'DR1TVB6',              # Vit B6 (Pyridoxin)\n",
    "    'DR1TFA',               # Vit B9 (Folic Acid)\n",
    "    'DR1TVB12',             # Vit B12 (Cobalamin)\n",
    "    'DR1TVC',               # Vit C\n",
    "    'DR1TVD',               # Vit D\n",
    "    'DR1TATOC',             # Vit E\n",
    "    'DR1TCALC',             # Calcium\n",
    "    'DR1TIRON',             # Iron\n",
    "    'DR1TZINC',             # Zinc\n",
    "    'DR1TSODI',             # Sodium\n",
    "    'DR1TPOTA',             # Potassium\n",
    "    'DR1TCAFF'              # Caffeine\n",
    "    ]]\n",
    "\n",
    "diet_columns = {\n",
    "    'SEQN': 'ID',\n",
    "    'DR1TKCAL': 'daily_calories',\n",
    "    'DR1TPROT': 'total_protein',\n",
    "    'DR1TCARB': 'total_carbohydrates',\n",
    "    'DR1TSUGR': 'total_sugar',\n",
    "    'DR1_320Z': 'total_water',\n",
    "    'DR1TTFAT': 'total_fat',\n",
    "    'DR1TMFAT': 'mufa',\n",
    "    'DR1TPFAT': 'pufa',\n",
    "    'DR1TCHOL': 'cholesterin_diet',\n",
    "    'DR1TFIBE': 'total_fiber',\n",
    "    'DR1TALCO': 'total_alcohol',\n",
    "    'DR1TVARA': 'vit_a',\n",
    "    'DR1TVB1': 'vit_b1',\n",
    "    'DR1TVB2': 'vit_b2',\n",
    "    'DR1TNIAC': 'vit_b3',\n",
    "    'DR1TVB6': 'vit_b6',\n",
    "    'DR1TFA': 'vit_b9',\n",
    "    'DR1TVB12': 'vit_b12',\n",
    "    'DR1TVC': 'vit_c',\n",
    "    'DR1TVD': 'vit_d_diet',\n",
    "    'DR1TATOC': 'vit_e',\n",
    "    'DR1TCALC': 'calcium',\n",
    "    'DR1TIRON': 'iron',\n",
    "    'DR1TZINC': 'zinc',\n",
    "    'DR1TSODI': 'sodium',\n",
    "    'DR1TPOTA': 'potassium',\n",
    "    'DR1TCAFF': 'caffeine'\n",
    "}\n",
    "\n",
    "diet_clean.rename(columns=diet_columns, inplace = True)\n"
   ]
  },
  {
   "cell_type": "code",
   "execution_count": 37,
   "id": "15cb623d",
   "metadata": {},
   "outputs": [],
   "source": [
    "exam_clean = exam.loc[:,[\n",
    "    'SEQN',                 # ID\n",
    "    'BMXWT',                # Weight\n",
    "    'BMXHT',                # Height\n",
    "    'BMXBMI',               # BMI\n",
    "    'BMXWAIST',             # Waist circumference\n",
    "    'BPXSY1',               # Systolic BP\n",
    "    'BPXDI1',               # Diastolic BP\n",
    "    'BPXPULS'               # Pulse\n",
    "    ]]\n",
    "\n",
    "exam_columns = {\n",
    "    'SEQN': 'ID',\n",
    "    'BMXWT': 'weight',\n",
    "    'BMXHT': 'height',\n",
    "    'BMXBMI': 'bmi',\n",
    "    'BMXWAIST': 'waist_circumference',\n",
    "    'BPXSY1': 'systolic_bp',\n",
    "    'BPXDI1': 'diastolic_bp',\n",
    "    'BPXPULS': 'pulse'\n",
    "}\n",
    "\n",
    "exam_clean.rename(columns=exam_columns, inplace = True)\n"
   ]
  },
  {
   "cell_type": "code",
   "execution_count": 38,
   "id": "838fac06",
   "metadata": {},
   "outputs": [],
   "source": [
    "lab_clean = lab.loc[:,[\n",
    "    'SEQN',             # ID\n",
    "    'LBXGLU',           # Glucose in Blood mg/dL\n",
    "    'LBDINSI',          # Insulin pmol/L\n",
    "    'LBXTC',            # Cholesterol mg/dL\n",
    "    'LBXTR',            # Triglyceride mg/dL\n",
    "    'LBDLDL',           # LDL-cholesterol mg/dL\n",
    "#   'LBXSAL',           # Albumin\n",
    "#   'LBXSATSI',         # Alanine Aminotransferase ALT U/L\n",
    "    'LBXSGTSI',         # Gamma glutamyl transferase\n",
    "    'LBXSAPSI',         # Alkaline phosphatase (IU/L)\n",
    "    'LBXVIDMS',         # vitamin D2 + D3\n",
    "    'URXUCR',           # Urinary creatinine (mg/dL)\n",
    "    'URXUMA',           # Albumin, urine (ug/mL)\n",
    "    'URDACT'            # Albumin creatinine ratio (mg/g)\n",
    "]]\n",
    "\n",
    "lab_columns = {\n",
    "    'SEQN': 'ID',\n",
    "    'LBXGLU': 'blood_glucose',\n",
    "    'LBDINSI': 'insulin',\n",
    "    'LBXTC': 'cholesterin_lab',\n",
    "    'LBXTR': 'triaclyglycerole',\n",
    "    'LBDLDL': 'ldl',\n",
    "#   'LBXSAL': 'albumin',\n",
    "#   'LBXSATSI': 'ALT',\n",
    "    'LBXSGTSI': 'gamma_glutamyl_transferase',\n",
    "    'LBXSAPSI': 'alkaline_phosphatase',\n",
    "    'LBXVIDMS': 'vit_d_lab',\n",
    "    'URXUCR': 'urinary_creatinine',\n",
    "    'URXUMA': 'albumine',\n",
    "    'URDACT': 'albumine_creatinine_ratio'\n",
    "}\n",
    "\n",
    "lab_clean.rename(columns=lab_columns, inplace = True)"
   ]
  },
  {
   "cell_type": "code",
   "execution_count": 39,
   "id": "d7024e93",
   "metadata": {},
   "outputs": [],
   "source": [
    "quest_clean = quest.loc[:,[\n",
    "    'SEQN',                 # ID\n",
    "    'PAQ620',               # Work with physical activity?\n",
    "    'PAD680',               # Time spent sitting\n",
    "    'PAD675',               # Time spent doing physical activities / day\n",
    "    'PAQ640',               # Days on which you bike or walk more than 10 mins/week\n",
    "    'MCQ010',               # Asthma?\n",
    "    'MCQ080',               # Has a Doctor ever said: \"you are overweight!\" ?\n",
    "    'MCQ220',               # Has a Doctor ever said: \"You have cancer\" ?\n",
    "    'SMQ040',               # Do you smoke?\n",
    "    'ALQ130',               # On avg how many drinks on days you drank alcohol?\n",
    "    'SLQ050',               # Ever told a doctor: Trouble sleeping?\n",
    "    'DIQ010'                # Has a Doctor ever told you: \"You have Diabetes\"?\n",
    "    ]]\n",
    "\n",
    "\n",
    "quest_columns = {\n",
    "    'SEQN': 'ID',\n",
    "    'PAQ620': 'physical_activity_work',\n",
    "    'PAD680': 'sitting_per_day',\n",
    "    'ALQ130': 'alcoholic_drinks',\n",
    "    'SMQ040': 'smoker',\n",
    "    'PAD675': 'sport_days',\n",
    "    'PAQ640': 'walk_<10_minutes_p_day',\n",
    "    'MCQ010': 'asthma',\n",
    "    'MCQ080': 'overweight',\n",
    "    'MCQ220': 'cancer',\n",
    "    'SLQ050': 'trouble_sleeping',\n",
    "    'DIQ010': 'diabetes'\n",
    "}\n",
    "quest_clean.rename(columns=quest_columns, inplace = True)"
   ]
  },
  {
   "cell_type": "code",
   "execution_count": 40,
   "id": "399fd691",
   "metadata": {},
   "outputs": [],
   "source": [
    "data_merged = demo_clean.merge(diet_clean, how = 'inner', on=\"ID\").merge(exam_clean, how='inner', on='ID').merge(lab_clean, how='inner', on='ID').merge(quest_clean, how='inner', on='ID')"
   ]
  },
  {
   "cell_type": "code",
   "execution_count": 41,
   "id": "a5c97201",
   "metadata": {},
   "outputs": [
    {
     "data": {
      "text/plain": [
       "Index(['ID', 'gender', 'age', 'ethnicity', 'country_of_birth', 'us_citizen',\n",
       "       'high_school_deg', 'college_deg', 'household_size', 'no_of_kids_u6',\n",
       "       'no_of_kids_btw_6_17', 'total_income', 'pregnancy_status',\n",
       "       'daily_calories', 'total_protein', 'total_carbohydrates', 'total_sugar',\n",
       "       'total_water', 'total_fat', 'mufa', 'pufa', 'cholesterin_diet',\n",
       "       'total_fiber', 'total_alcohol', 'vit_a', 'vit_b1', 'vit_b2', 'vit_b3',\n",
       "       'vit_b6', 'vit_b9', 'vit_b12', 'vit_c', 'vit_d_diet', 'vit_e',\n",
       "       'calcium', 'iron', 'zinc', 'sodium', 'potassium', 'caffeine', 'weight',\n",
       "       'height', 'bmi', 'waist_circumference', 'systolic_bp', 'diastolic_bp',\n",
       "       'pulse', 'blood_glucose', 'insulin', 'cholesterin_lab',\n",
       "       'triaclyglycerole', 'ldl', 'gamma_glutamyl_transferase',\n",
       "       'alkaline_phosphatase', 'vit_d_lab', 'urinary_creatinine', 'albumine',\n",
       "       'albumine_creatinine_ratio', 'physical_activity_work',\n",
       "       'sitting_per_day', 'sport_days', 'walk_<10_minutes_p_day', 'asthma',\n",
       "       'overweight', 'cancer', 'smoker', 'alcoholic_drinks',\n",
       "       'trouble_sleeping', 'diabetes'],\n",
       "      dtype='object')"
      ]
     },
     "execution_count": 41,
     "metadata": {},
     "output_type": "execute_result"
    }
   ],
   "source": [
    "data_merged.columns"
   ]
  },
  {
   "cell_type": "code",
   "execution_count": 42,
   "id": "51952523",
   "metadata": {},
   "outputs": [
    {
     "name": "stderr",
     "output_type": "stream",
     "text": [
      "/var/folders/w_/l5_6k0ks44j93c_h19c7c9qh0000gn/T/ipykernel_7322/590590530.py:8: FutureWarning: Setting an item of incompatible dtype is deprecated and will raise in a future error of pandas. Value '<IntegerArray>\n",
      "[  30, <NA>, <NA>, <NA>, <NA>, <NA>, <NA>, <NA>, <NA>, <NA>,\n",
      " ...\n",
      " <NA>, <NA>, <NA>,   45, <NA>, <NA>, <NA>, <NA>, <NA>,   60]\n",
      "Length: 9544, dtype: Int64' has dtype incompatible with float64, please explicitly cast to a compatible dtype first.\n",
      "  data_merged.loc[:, cols_to_convert] = data_merged.loc[:, cols_to_convert].astype('Int64')\n",
      "/var/folders/w_/l5_6k0ks44j93c_h19c7c9qh0000gn/T/ipykernel_7322/590590530.py:8: FutureWarning: Setting an item of incompatible dtype is deprecated and will raise in a future error of pandas. Value '<IntegerArray>\n",
      "[ 480,  300,  480,  480,  540,   10, <NA>, <NA>, <NA>,  540,\n",
      " ...\n",
      " <NA>, <NA>,  360,  660,  600, <NA>, <NA>,  600, <NA>,  600]\n",
      "Length: 9544, dtype: Int64' has dtype incompatible with float64, please explicitly cast to a compatible dtype first.\n",
      "  data_merged.loc[:, cols_to_convert] = data_merged.loc[:, cols_to_convert].astype('Int64')\n",
      "/var/folders/w_/l5_6k0ks44j93c_h19c7c9qh0000gn/T/ipykernel_7322/590590530.py:8: FutureWarning: Setting an item of incompatible dtype is deprecated and will raise in a future error of pandas. Value '<IntegerArray>\n",
      "[<NA>, <NA>, <NA>, <NA>, <NA>, <NA>, <NA>, <NA>, <NA>,    4,\n",
      " ...\n",
      " <NA>, <NA>, <NA>, <NA>, <NA>, <NA>, <NA>, <NA>, <NA>,    5]\n",
      "Length: 9544, dtype: Int64' has dtype incompatible with float64, please explicitly cast to a compatible dtype first.\n",
      "  data_merged.loc[:, cols_to_convert] = data_merged.loc[:, cols_to_convert].astype('Int64')\n",
      "/var/folders/w_/l5_6k0ks44j93c_h19c7c9qh0000gn/T/ipykernel_7322/590590530.py:8: FutureWarning: Setting an item of incompatible dtype is deprecated and will raise in a future error of pandas. Value '<IntegerArray>\n",
      "[   1,    6, <NA>,    1,    1, <NA>, <NA>, <NA>, <NA>,    8,\n",
      " ...\n",
      " <NA>, <NA>, <NA>, <NA>,    1, <NA>, <NA>, <NA>, <NA>,    2]\n",
      "Length: 9544, dtype: Int64' has dtype incompatible with float64, please explicitly cast to a compatible dtype first.\n",
      "  data_merged.loc[:, cols_to_convert] = data_merged.loc[:, cols_to_convert].astype('Int64')\n"
     ]
    }
   ],
   "source": [
    "cols_to_convert = [\n",
    "    \"ID\", \"age\", \"no_of_kids_u6\", \"household_size\",\n",
    "    \"no_of_kids_btw_6_17\",\n",
    "    \"sport_days\", \"sitting_per_day\",\n",
    "    \"walk_<10_minutes_p_day\", \"alcoholic_drinks\"\n",
    "]\n",
    "\n",
    "data_merged.loc[:, cols_to_convert] = data_merged.loc[:, cols_to_convert].astype('Int64')"
   ]
  },
  {
   "cell_type": "code",
   "execution_count": 43,
   "id": "dfd7656b",
   "metadata": {},
   "outputs": [
    {
     "name": "stdout",
     "output_type": "stream",
     "text": [
      "pregnancy_status          8304\n",
      "walk_<10_minutes_p_day    7823\n",
      "smoker                    7225\n",
      "college_deg               6998\n",
      "ldl                       6845\n",
      "                          ... \n",
      "diabetes                   379\n",
      "total_income               267\n",
      "pulse                      230\n",
      "weight                      99\n",
      "us_citizen                   2\n",
      "Length: 61, dtype: int64\n"
     ]
    }
   ],
   "source": [
    "missing = data_merged.isnull().sum().sort_values(ascending=False)\n",
    "print(missing[missing > 0])"
   ]
  },
  {
   "cell_type": "code",
   "execution_count": 44,
   "id": "44d72d68",
   "metadata": {},
   "outputs": [],
   "source": [
    "str_list = [\n",
    "       'gender',\n",
    "       'country_of_birth',\n",
    "       'us_citizen',\n",
    "       'ethnicity',\n",
    "       'high_school_deg',\n",
    "       'pregnancy_status',\n",
    "       'physical_activity_work',\n",
    "       'asthma',\n",
    "       'overweight',\n",
    "       'cancer',\n",
    "       'smoker',\n",
    "       'trouble_sleeping',\n",
    "       'diabetes']\n",
    "\n",
    "data_merged[str_list] = data_merged[str_list].astype('str')"
   ]
  },
  {
   "cell_type": "code",
   "execution_count": 45,
   "id": "533a814a",
   "metadata": {},
   "outputs": [
    {
     "data": {
      "text/plain": [
       "0          USA\n",
       "1       others\n",
       "2          USA\n",
       "3          USA\n",
       "4          USA\n",
       "         ...  \n",
       "9539       USA\n",
       "9540       USA\n",
       "9541    others\n",
       "9542       USA\n",
       "9543       USA\n",
       "Name: country_of_birth, Length: 9544, dtype: object"
      ]
     },
     "execution_count": 45,
     "metadata": {},
     "output_type": "execute_result"
    }
   ],
   "source": [
    "# country of birth:\n",
    "# 1: born in usa\n",
    "# 2: others\n",
    "# 77 refused\n",
    "# 99 dont know\n",
    "# . missing\n",
    "\n",
    "data_merged['country_of_birth'] = data_merged['country_of_birth'].map({\n",
    "    '1.0': 'USA',\n",
    "    '2.0': 'others'\n",
    "}).fillna('unknown')\n",
    "\n",
    "data_merged['country_of_birth']"
   ]
  },
  {
   "cell_type": "code",
   "execution_count": 46,
   "id": "6a5bbe6f",
   "metadata": {},
   "outputs": [
    {
     "data": {
      "text/plain": [
       "us_citizen\n",
       "US-citizen       9527\n",
       "unknown             9\n",
       "not a citizen       8\n",
       "Name: count, dtype: int64"
      ]
     },
     "execution_count": 46,
     "metadata": {},
     "output_type": "execute_result"
    }
   ],
   "source": [
    "# citizen:\\\n",
    "# 1 born in the usa\\\n",
    "# 2 durch einbürgerung\\\n",
    "# 7 kein us-bürger\\\n",
    "# 9 keine angabe\n",
    "\n",
    "data_merged['us_citizen'] = data_merged['us_citizen'].map({\n",
    "    '1.0': 'US-citizen',\n",
    "    '2.0': 'US-citizen',\n",
    "    '7.0': 'not a citizen',\n",
    "    '9.0': 'unknown'\n",
    "}).fillna('unknown')\n",
    "data_merged['us_citizen'].value_counts()"
   ]
  },
  {
   "cell_type": "code",
   "execution_count": 47,
   "id": "e9973642",
   "metadata": {},
   "outputs": [
    {
     "data": {
      "text/plain": [
       "pregnancy_status\n",
       "unknown         8349\n",
       "not pregnant    1125\n",
       "pregnant          70\n",
       "Name: count, dtype: int64"
      ]
     },
     "execution_count": 47,
     "metadata": {},
     "output_type": "execute_result"
    }
   ],
   "source": [
    "# pregnancy status:\\\n",
    "# 1: yes\\\n",
    "# 2: not pregnant at exam\\\n",
    "# 3: unsure\n",
    "\n",
    "data_merged['pregnancy_status'] = data_merged['pregnancy_status'].map({\n",
    "    '1.0': 'pregnant',\n",
    "    '2.0': 'not pregnant',\n",
    "    '3.0': 'unknown'\n",
    "}).fillna('unknown')\n",
    "data_merged['pregnancy_status'].value_counts()\n"
   ]
  },
  {
   "cell_type": "code",
   "execution_count": 48,
   "id": "50b4bc03",
   "metadata": {},
   "outputs": [
    {
     "data": {
      "text/plain": [
       "physical_activity_work\n",
       "no         4186\n",
       "unknown    2847\n",
       "yes        2511\n",
       "Name: count, dtype: int64"
      ]
     },
     "execution_count": 48,
     "metadata": {},
     "output_type": "execute_result"
    }
   ],
   "source": [
    "# physical activity at work\\\n",
    "# 1 yes\\\n",
    "# 2 no\\\n",
    "# 7 refused\\\n",
    "# 9 dont know\\\n",
    "# . missing\n",
    "\n",
    "data_merged['physical_activity_work'] = data_merged['physical_activity_work'].map({\n",
    "    '1.0': 'yes',\n",
    "    '2.0': 'no',\n",
    "    '9.0': 'unknown',\n",
    "    '7.0': 'unknown'\n",
    "}).fillna('unknown')\n",
    "data_merged['physical_activity_work'].value_counts()"
   ]
  },
  {
   "cell_type": "code",
   "execution_count": 49,
   "id": "bda87afe",
   "metadata": {},
   "outputs": [
    {
     "data": {
      "text/plain": [
       "smoker\n",
       "unknown       7225\n",
       "not at all    1264\n",
       "every day      798\n",
       "some days      257\n",
       "Name: count, dtype: int64"
      ]
     },
     "execution_count": 49,
     "metadata": {},
     "output_type": "execute_result"
    }
   ],
   "source": [
    "# SMQ040 - smoker\n",
    "# 1 every day\n",
    "# 2 some days\n",
    "# 3 not at all\n",
    "# 7 refused\n",
    "# 9 dont know\n",
    "# . missing\n",
    "\n",
    "data_merged['smoker'] = data_merged['smoker'].map({\n",
    "    '1.0': 'every day',\n",
    "    '2.0': 'some days',\n",
    "    '3.0': 'not at all',\n",
    "    '9.0': 'unknown',\n",
    "    '7.0': 'unknown'\n",
    "}).fillna('unknown')\n",
    "\n",
    "data_merged['smoker'].value_counts()"
   ]
  },
  {
   "cell_type": "code",
   "execution_count": 50,
   "id": "f87fbf6e",
   "metadata": {},
   "outputs": [
    {
     "data": {
      "text/plain": [
       "overweight\n",
       "no         3915\n",
       "unknown    3485\n",
       "yes        2144\n",
       "Name: count, dtype: int64"
      ]
     },
     "execution_count": 50,
     "metadata": {},
     "output_type": "execute_result"
    }
   ],
   "source": [
    "# MCQ080 - overweight\n",
    "# 1 - yes\n",
    "# 2- no\n",
    "# 3- refused\n",
    "# 9 dont know\n",
    "# . missing\n",
    "data_merged['overweight'] = data_merged['overweight'].map({\n",
    "    '1.0': 'yes',\n",
    "    '2.0': 'no',\n",
    "    '3.0': 'refused',\n",
    "    '9.0': 'unknown'\n",
    "}).fillna('unknown')\n",
    "\n",
    "data_merged['overweight'].value_counts()"
   ]
  },
  {
   "cell_type": "code",
   "execution_count": 51,
   "id": "6584f2c2",
   "metadata": {},
   "outputs": [
    {
     "data": {
      "text/plain": [
       "cancer\n",
       "no         4945\n",
       "unknown    4074\n",
       "yes         525\n",
       "Name: count, dtype: int64"
      ]
     },
     "execution_count": 51,
     "metadata": {},
     "output_type": "execute_result"
    }
   ],
   "source": [
    "# MCQ220 - cancer\n",
    "# 1 - yes\n",
    "# 2- no\n",
    "# 3- refused\n",
    "# 9 dont know\n",
    "# . missing\n",
    "\n",
    "data_merged['cancer'] = data_merged['cancer'].map({\n",
    "    '1.0': 'yes',\n",
    "    '2.0': 'no',\n",
    "    '3.0': 'refused',\n",
    "    '9.0': 'unknown'\n",
    "}).fillna('unknown')\n",
    "\n",
    "data_merged['cancer'].value_counts()"
   ]
  },
  {
   "cell_type": "code",
   "execution_count": 52,
   "id": "4e3e9d68",
   "metadata": {},
   "outputs": [
    {
     "data": {
      "text/plain": [
       "asthma\n",
       "no         7778\n",
       "yes        1376\n",
       "unknown     390\n",
       "Name: count, dtype: int64"
      ]
     },
     "execution_count": 52,
     "metadata": {},
     "output_type": "execute_result"
    }
   ],
   "source": [
    "# MCQ010 asthma\n",
    "# 1 - yes\n",
    "# 2- no\n",
    "# 3- refused\n",
    "# 9 dont know\n",
    "# . missing\n",
    "\n",
    "data_merged['asthma'] = data_merged['asthma'].map({\n",
    "    '1.0': 'yes',\n",
    "    '2.0': 'no',\n",
    "    '3.0': 'refused',\n",
    "    '9.0': 'unknown'\n",
    "}).fillna('unknown')\n",
    "\n",
    "data_merged['asthma'].value_counts()"
   ]
  },
  {
   "cell_type": "code",
   "execution_count": 53,
   "id": "1cb660be",
   "metadata": {},
   "outputs": [
    {
     "data": {
      "text/plain": [
       "diabetes\n",
       "no         8200\n",
       "yes         820\n",
       "unknown     383\n",
       "refused     141\n",
       "Name: count, dtype: int64"
      ]
     },
     "execution_count": 53,
     "metadata": {},
     "output_type": "execute_result"
    }
   ],
   "source": [
    "# DIQ010 - diabetes\n",
    "# 1 yes\n",
    "# 2 no\n",
    "# 3 borderline\n",
    "# 7 ref\n",
    "# 9 dont know\n",
    "# . missing\n",
    "\n",
    "data_merged['diabetes'] = data_merged['diabetes'].map({\n",
    "    '1.0': 'yes',\n",
    "    '2.0': 'no',\n",
    "    '3.0': 'refused',\n",
    "    '9.0': 'unknown'\n",
    "}).fillna('unknown')\n",
    "\n",
    "data_merged['diabetes'].value_counts()"
   ]
  },
  {
   "cell_type": "code",
   "execution_count": 54,
   "id": "fb5accdd",
   "metadata": {},
   "outputs": [
    {
     "data": {
      "text/plain": [
       "ethnicity\n",
       "white               2948\n",
       "black               2052\n",
       "mexican american    1837\n",
       "hispanic            1232\n",
       "asian                986\n",
       "others               489\n",
       "Name: count, dtype: int64"
      ]
     },
     "execution_count": 54,
     "metadata": {},
     "output_type": "execute_result"
    }
   ],
   "source": [
    "# ethnicity\n",
    "# 1.0 mexican american\n",
    "# 2.0 other hispanic\n",
    "# 3.0 non-hispanic white\n",
    "# 4.0 non-hispanic black\n",
    "# 6.0 asian\n",
    "# 7.0 others \n",
    "\n",
    "data_merged['ethnicity'] = data_merged['ethnicity'].map({\n",
    "    '1.0': 'mexican american',\n",
    "    '2.0': 'hispanic',\n",
    "    '3.0': 'white',\n",
    "    '4.0': 'black',\n",
    "    '6.0': 'asian',\n",
    "    '7.0': 'others'\n",
    "}).fillna('unknown')\n",
    "data_merged['ethnicity'].value_counts()"
   ]
  },
  {
   "cell_type": "code",
   "execution_count": 61,
   "id": "24fbe363",
   "metadata": {},
   "outputs": [],
   "source": [
    "data_merged.replace([777, 999, 7777, 9999], 0, inplace=True)"
   ]
  }
 ],
 "metadata": {
  "kernelspec": {
   "display_name": "base",
   "language": "python",
   "name": "python3"
  },
  "language_info": {
   "codemirror_mode": {
    "name": "ipython",
    "version": 3
   },
   "file_extension": ".py",
   "mimetype": "text/x-python",
   "name": "python",
   "nbconvert_exporter": "python",
   "pygments_lexer": "ipython3",
   "version": "3.9.21"
  }
 },
 "nbformat": 4,
 "nbformat_minor": 5
}
