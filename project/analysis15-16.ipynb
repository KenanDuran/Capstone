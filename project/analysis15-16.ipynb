{
 "cells": [
  {
   "cell_type": "markdown",
   "id": "fca131d7",
   "metadata": {},
   "source": [
    "# Capstone Project"
   ]
  },
  {
   "cell_type": "markdown",
   "id": "81f454b1",
   "metadata": {},
   "source": [
    "Health and Nutrition Data from CDC and NHANES"
   ]
  },
  {
   "cell_type": "code",
   "execution_count": 1,
   "id": "136c6df4",
   "metadata": {},
   "outputs": [],
   "source": [
    "import pandas as pd #importing pandas \n",
    "#pd.set_option('display.max_rows', None) "
   ]
  },
  {
   "cell_type": "code",
   "execution_count": 2,
   "id": "6dab92db",
   "metadata": {},
   "outputs": [
    {
     "name": "stderr",
     "output_type": "stream",
     "text": [
      "/var/folders/w_/l5_6k0ks44j93c_h19c7c9qh0000gn/T/ipykernel_10057/3813907426.py:4: DtypeWarning: Columns (70,72) have mixed types. Specify dtype option on import or set low_memory=False.\n",
      "  exam = pd.read_csv('/Users/harunabi/Documents/Capstone/data/examination.csv')\n",
      "/var/folders/w_/l5_6k0ks44j93c_h19c7c9qh0000gn/T/ipykernel_10057/3813907426.py:6: DtypeWarning: Columns (758,759,776,777) have mixed types. Specify dtype option on import or set low_memory=False.\n",
      "  quest = pd.read_csv('/Users/harunabi/Documents/Capstone/data/questionnaire.csv')\n"
     ]
    }
   ],
   "source": [
    "# reading the dataset from cdc\n",
    "demo = pd.read_csv('/Users/harunabi/Documents/Capstone/data/demographics.csv')\n",
    "diet = pd.read_csv('/Users/harunabi/Documents/Capstone/data/dietary.csv')\n",
    "exam = pd.read_csv('/Users/harunabi/Documents/Capstone/data/examination.csv')\n",
    "lab = pd.read_csv('/Users/harunabi/Documents/Capstone/data/laboratory.csv')\n",
    "quest = pd.read_csv('/Users/harunabi/Documents/Capstone/data/questionnaire.csv')"
   ]
  },
  {
   "cell_type": "code",
   "execution_count": 3,
   "id": "6b23cb42",
   "metadata": {},
   "outputs": [
    {
     "data": {
      "text/html": [
       "<div>\n",
       "<style scoped>\n",
       "    .dataframe tbody tr th:only-of-type {\n",
       "        vertical-align: middle;\n",
       "    }\n",
       "\n",
       "    .dataframe tbody tr th {\n",
       "        vertical-align: top;\n",
       "    }\n",
       "\n",
       "    .dataframe thead th {\n",
       "        text-align: right;\n",
       "    }\n",
       "</style>\n",
       "<table border=\"1\" class=\"dataframe\">\n",
       "  <thead>\n",
       "    <tr style=\"text-align: right;\">\n",
       "      <th></th>\n",
       "      <th>SEQN</th>\n",
       "      <th>SDDSRVYR</th>\n",
       "      <th>RIDSTATR</th>\n",
       "      <th>RIAGENDR</th>\n",
       "      <th>RIDAGEYR</th>\n",
       "      <th>RIDAGEMN</th>\n",
       "      <th>RIDRETH1</th>\n",
       "      <th>RIDRETH3</th>\n",
       "      <th>RIDEXMON</th>\n",
       "      <th>RIDEXAGM</th>\n",
       "      <th>...</th>\n",
       "      <th>DMDHREDU</th>\n",
       "      <th>DMDHRMAR</th>\n",
       "      <th>DMDHSEDU</th>\n",
       "      <th>WTINT2YR</th>\n",
       "      <th>WTMEC2YR</th>\n",
       "      <th>SDMVPSU</th>\n",
       "      <th>SDMVSTRA</th>\n",
       "      <th>INDHHIN2</th>\n",
       "      <th>INDFMIN2</th>\n",
       "      <th>INDFMPIR</th>\n",
       "    </tr>\n",
       "  </thead>\n",
       "  <tbody>\n",
       "    <tr>\n",
       "      <th>0</th>\n",
       "      <td>83732.0</td>\n",
       "      <td>9.0</td>\n",
       "      <td>2.0</td>\n",
       "      <td>1.0</td>\n",
       "      <td>62.0</td>\n",
       "      <td>NaN</td>\n",
       "      <td>3.0</td>\n",
       "      <td>3.0</td>\n",
       "      <td>1.0</td>\n",
       "      <td>NaN</td>\n",
       "      <td>...</td>\n",
       "      <td>5.0</td>\n",
       "      <td>1.0</td>\n",
       "      <td>3.0</td>\n",
       "      <td>134671.370419</td>\n",
       "      <td>135629.507405</td>\n",
       "      <td>1.0</td>\n",
       "      <td>125.0</td>\n",
       "      <td>10.0</td>\n",
       "      <td>10.0</td>\n",
       "      <td>4.39</td>\n",
       "    </tr>\n",
       "    <tr>\n",
       "      <th>1</th>\n",
       "      <td>83733.0</td>\n",
       "      <td>9.0</td>\n",
       "      <td>2.0</td>\n",
       "      <td>1.0</td>\n",
       "      <td>53.0</td>\n",
       "      <td>NaN</td>\n",
       "      <td>3.0</td>\n",
       "      <td>3.0</td>\n",
       "      <td>1.0</td>\n",
       "      <td>NaN</td>\n",
       "      <td>...</td>\n",
       "      <td>3.0</td>\n",
       "      <td>3.0</td>\n",
       "      <td>NaN</td>\n",
       "      <td>24328.560239</td>\n",
       "      <td>25282.425927</td>\n",
       "      <td>1.0</td>\n",
       "      <td>125.0</td>\n",
       "      <td>4.0</td>\n",
       "      <td>4.0</td>\n",
       "      <td>1.32</td>\n",
       "    </tr>\n",
       "    <tr>\n",
       "      <th>2</th>\n",
       "      <td>83734.0</td>\n",
       "      <td>9.0</td>\n",
       "      <td>2.0</td>\n",
       "      <td>1.0</td>\n",
       "      <td>78.0</td>\n",
       "      <td>NaN</td>\n",
       "      <td>3.0</td>\n",
       "      <td>3.0</td>\n",
       "      <td>2.0</td>\n",
       "      <td>NaN</td>\n",
       "      <td>...</td>\n",
       "      <td>3.0</td>\n",
       "      <td>1.0</td>\n",
       "      <td>3.0</td>\n",
       "      <td>12400.008522</td>\n",
       "      <td>12575.838818</td>\n",
       "      <td>1.0</td>\n",
       "      <td>131.0</td>\n",
       "      <td>5.0</td>\n",
       "      <td>5.0</td>\n",
       "      <td>1.51</td>\n",
       "    </tr>\n",
       "    <tr>\n",
       "      <th>3</th>\n",
       "      <td>83735.0</td>\n",
       "      <td>9.0</td>\n",
       "      <td>2.0</td>\n",
       "      <td>2.0</td>\n",
       "      <td>56.0</td>\n",
       "      <td>NaN</td>\n",
       "      <td>3.0</td>\n",
       "      <td>3.0</td>\n",
       "      <td>2.0</td>\n",
       "      <td>NaN</td>\n",
       "      <td>...</td>\n",
       "      <td>5.0</td>\n",
       "      <td>6.0</td>\n",
       "      <td>NaN</td>\n",
       "      <td>102717.995647</td>\n",
       "      <td>102078.634508</td>\n",
       "      <td>1.0</td>\n",
       "      <td>131.0</td>\n",
       "      <td>10.0</td>\n",
       "      <td>10.0</td>\n",
       "      <td>5.00</td>\n",
       "    </tr>\n",
       "    <tr>\n",
       "      <th>4</th>\n",
       "      <td>83736.0</td>\n",
       "      <td>9.0</td>\n",
       "      <td>2.0</td>\n",
       "      <td>2.0</td>\n",
       "      <td>42.0</td>\n",
       "      <td>NaN</td>\n",
       "      <td>4.0</td>\n",
       "      <td>4.0</td>\n",
       "      <td>2.0</td>\n",
       "      <td>NaN</td>\n",
       "      <td>...</td>\n",
       "      <td>4.0</td>\n",
       "      <td>3.0</td>\n",
       "      <td>NaN</td>\n",
       "      <td>17627.674984</td>\n",
       "      <td>18234.736219</td>\n",
       "      <td>2.0</td>\n",
       "      <td>126.0</td>\n",
       "      <td>7.0</td>\n",
       "      <td>7.0</td>\n",
       "      <td>1.23</td>\n",
       "    </tr>\n",
       "  </tbody>\n",
       "</table>\n",
       "<p>5 rows × 47 columns</p>\n",
       "</div>"
      ],
      "text/plain": [
       "      SEQN  SDDSRVYR  RIDSTATR  RIAGENDR  RIDAGEYR  RIDAGEMN  RIDRETH1  \\\n",
       "0  83732.0       9.0       2.0       1.0      62.0       NaN       3.0   \n",
       "1  83733.0       9.0       2.0       1.0      53.0       NaN       3.0   \n",
       "2  83734.0       9.0       2.0       1.0      78.0       NaN       3.0   \n",
       "3  83735.0       9.0       2.0       2.0      56.0       NaN       3.0   \n",
       "4  83736.0       9.0       2.0       2.0      42.0       NaN       4.0   \n",
       "\n",
       "   RIDRETH3  RIDEXMON  RIDEXAGM  ...  DMDHREDU  DMDHRMAR  DMDHSEDU  \\\n",
       "0       3.0       1.0       NaN  ...       5.0       1.0       3.0   \n",
       "1       3.0       1.0       NaN  ...       3.0       3.0       NaN   \n",
       "2       3.0       2.0       NaN  ...       3.0       1.0       3.0   \n",
       "3       3.0       2.0       NaN  ...       5.0       6.0       NaN   \n",
       "4       4.0       2.0       NaN  ...       4.0       3.0       NaN   \n",
       "\n",
       "        WTINT2YR       WTMEC2YR  SDMVPSU  SDMVSTRA  INDHHIN2  INDFMIN2  \\\n",
       "0  134671.370419  135629.507405      1.0     125.0      10.0      10.0   \n",
       "1   24328.560239   25282.425927      1.0     125.0       4.0       4.0   \n",
       "2   12400.008522   12575.838818      1.0     131.0       5.0       5.0   \n",
       "3  102717.995647  102078.634508      1.0     131.0      10.0      10.0   \n",
       "4   17627.674984   18234.736219      2.0     126.0       7.0       7.0   \n",
       "\n",
       "   INDFMPIR  \n",
       "0      4.39  \n",
       "1      1.32  \n",
       "2      1.51  \n",
       "3      5.00  \n",
       "4      1.23  \n",
       "\n",
       "[5 rows x 47 columns]"
      ]
     },
     "execution_count": 3,
     "metadata": {},
     "output_type": "execute_result"
    }
   ],
   "source": [
    "demo.head()"
   ]
  },
  {
   "cell_type": "code",
   "execution_count": 45,
   "id": "69ba1294",
   "metadata": {},
   "outputs": [],
   "source": [
    "\n",
    "# demo_var = pd.read_excel(\"../data/demographics_variables.xlsx\").iloc[:,0:2]\n",
    "\n",
    "# diet_var = pd.read_excel(\"../data/dietary_variables.xlsx\").iloc[:,0:2]\n",
    "\n",
    "# exam_var = pd.read_excel(\"../data/examination_variables.xlsx\")\n",
    "\n",
    "# lab_var = pd.read_excel(\"../data/laboratory_variables.xlsx\")\n",
    "\n",
    "# quest_var = pd.read_excel(\"../data/questionnaire_variables.xlsx\")"
   ]
  },
  {
   "cell_type": "markdown",
   "id": "482baa9c",
   "metadata": {},
   "source": [
    "# Data Clean-up"
   ]
  },
  {
   "cell_type": "markdown",
   "id": "8de0e386",
   "metadata": {},
   "source": [
    "We want only certain variables!\n",
    "\n",
    "Demographic data filtering"
   ]
  },
  {
   "cell_type": "code",
   "execution_count": 5,
   "id": "850df577",
   "metadata": {},
   "outputs": [],
   "source": [
    "\n",
    "#Demogrpahics data filtering\n",
    "\n",
    "demo_clean = demo.loc[:,[\n",
    "    \"SEQN\",                 # ID\n",
    "    \"RIAGENDR\",             # Gender\n",
    "    \"RIDAGEYR\",             # Age\n",
    "    \"RIDRETH3\",             # Ethnicity\n",
    "    \"DMDBORN4\",             # Country of Birth\n",
    "    \"DMDCITZN\",             # US-Citizenship\n",
    "    \"DMDEDUC2\",             # Highschool Grad?\n",
    "    \"DMDEDUC3\",             # College Degree?\n",
    "    \"DMDHHSIZ\",             # Household Size\n",
    "    \"DMDHHSZA\",             # No of Kids < 6 yr in Household?\n",
    "    \"DMDHHSZB\",             # No of Kids between 6 and 17\n",
    "    \"INDFMIN2\",             # Total family Income\n",
    "    \"RIDEXPRG\"              # Pregnancy status\n",
    "    ]]\n",
    "demo_columns = {\n",
    "    \"SEQN\" : \"ID\",\n",
    "    \"RIAGENDR\": \"gender\",\n",
    "    \"RIDAGEYR\": \"age\",\n",
    "    \"RIDRETH3\": \"ethnicity\",\n",
    "    \"DMDBORN4\": \"country_of_birth\",\n",
    "    \"DMDCITZN\": \"us_citizen\",\n",
    "    \"DMDEDUC2\": \"high_school_deg\",\n",
    "    \"DMDEDUC3\": \"college_deg\",\n",
    "    \"DMDHHSIZ\": \"household_size\",\n",
    "    \"DMDHHSZA\": \"no_of_kids_u6\",\n",
    "    \"DMDHHSZB\": \"no_of_kids_btw_6_17\",\n",
    "    \"INDFMIN2\": \"total_income\",\n",
    "    \"RIDEXPRG\": \"pregnancy_status\"\n",
    "    }\n",
    "demo_clean.rename(columns=demo_columns, inplace = True)\n"
   ]
  },
  {
   "cell_type": "markdown",
   "id": "5764cf93",
   "metadata": {},
   "source": [
    "Dietary data filtering"
   ]
  },
  {
   "cell_type": "code",
   "execution_count": 6,
   "id": "c7d62fb0",
   "metadata": {},
   "outputs": [],
   "source": [
    "diet_clean = diet.loc[:,[\n",
    "    'SEQN',                 # ID\n",
    "    'DR1TKCAL',             # Total Calories\n",
    "    'DR1TPROT',             # Total Protein\n",
    "    'DR1TCARB',             # Total Carbohydrates\n",
    "    'DR1TSUGR',             # Total Sugar\n",
    "    'DR1_320Z',             # Total Water drank\n",
    "    'DR1TTFAT',             # Total Fat\n",
    "    'DR1TMFAT',             # MUFA\n",
    "    'DR1TPFAT',             # PUFA\n",
    "    'DR1TCHOL',             # Cholesterin\n",
    "    'DR1TFIBE',             # Total Fiber\n",
    "    'DR1TALCO',             # Total Alcohol\n",
    "    'DR1TVARA',             # Vit A\n",
    "    'DR1TVB1',              # Vit B1 (Thiamin)\n",
    "    'DR1TVB2',              # Vit B2 (Riboflavin)\n",
    "    'DR1TNIAC',             # Vit B3 (Niacin)\n",
    "    'DR1TVB6',              # Vit B6 (Pyridoxin)\n",
    "    'DR1TFA',               # Vit B9 (Folic Acid)\n",
    "    'DR1TVB12',             # Vit B12 (Cobalamin)\n",
    "    'DR1TVC',               # Vit C\n",
    "    'DR1TVD',               # Vit D\n",
    "    'DR1TATOC',             # Vit E\n",
    "    'DR1TCALC',             # Calcium\n",
    "    'DR1TIRON',             # Iron\n",
    "    'DR1TZINC',             # Zinc\n",
    "    'DR1TSODI',             # Sodium\n",
    "    'DR1TPOTA',             # Potassium\n",
    "    'DR1TCAFF'              # Caffeine\n",
    "    ]]\n",
    "\n",
    "diet_columns = {\n",
    "    'SEQN': 'ID',\n",
    "    'DR1TKCAL': 'daily_calories',\n",
    "    'DR1TPROT': 'total_protein',\n",
    "    'DR1TCARB': 'total_carbohydrates',\n",
    "    'DR1TSUGR': 'total_sugar',\n",
    "    'DR1_320Z': 'total_water',\n",
    "    'DR1TTFAT': 'total_fat',\n",
    "    'DR1TMFAT': 'mufa',\n",
    "    'DR1TPFAT': 'pufa',\n",
    "    'DR1TCHOL': 'cholesterin_diet',\n",
    "    'DR1TFIBE': 'total_fiber',\n",
    "    'DR1TALCO': 'total_alcohol',\n",
    "    'DR1TVARA': 'vit_a',\n",
    "    'DR1TVB1': 'vit_b1',\n",
    "    'DR1TVB2': 'vit_b2',\n",
    "    'DR1TNIAC': 'vit_b3',\n",
    "    'DR1TVB6': 'vit_b6',\n",
    "    'DR1TFA': 'vit_b9',\n",
    "    'DR1TVB12': 'vit_b12',\n",
    "    'DR1TVC': 'vit_c',\n",
    "    'DR1TVD': 'vit_d_diet',\n",
    "    'DR1TATOC': 'vit_e',\n",
    "    'DR1TCALC': 'calcium',\n",
    "    'DR1TIRON': 'iron',\n",
    "    'DR1TZINC': 'zinc',\n",
    "    'DR1TSODI': 'sodium',\n",
    "    'DR1TPOTA': 'potassium',\n",
    "    'DR1TCAFF': 'caffeine'\n",
    "}\n",
    "\n",
    "diet_clean.rename(columns=diet_columns, inplace = True)\n"
   ]
  },
  {
   "cell_type": "markdown",
   "id": "ea8dc3cd",
   "metadata": {},
   "source": [
    "Examination data filter"
   ]
  },
  {
   "cell_type": "code",
   "execution_count": 7,
   "id": "15cb623d",
   "metadata": {},
   "outputs": [],
   "source": [
    "exam_clean = exam.loc[:,[\n",
    "    'SEQN',                 # ID\n",
    "    'BMXWT',                # Weight\n",
    "    'BMXHT',                # Height\n",
    "    'BMXBMI',               # BMI\n",
    "    'BMXWAIST',             # Waist circumference\n",
    "    'BPXSY1',               # Systolic BP\n",
    "    'BPXDI1',               # Diastolic BP\n",
    "    'BPXPULS'               # Pulse\n",
    "    ]]\n",
    "\n",
    "exam_columns = {\n",
    "    'SEQN': 'ID',\n",
    "    'BMXWT': 'weight',\n",
    "    'BMXHT': 'height',\n",
    "    'BMXBMI': 'bmi',\n",
    "    'BMXWAIST': 'waist_circumference',\n",
    "    'BPXSY1': 'systolic_bp',\n",
    "    'BPXDI1': 'diastolic_bp',\n",
    "    'BPXPULS': 'pulse'\n",
    "}\n",
    "\n",
    "exam_clean.rename(columns=exam_columns, inplace = True)\n"
   ]
  },
  {
   "cell_type": "markdown",
   "id": "309755c0",
   "metadata": {},
   "source": [
    "Laboratory data filtering"
   ]
  },
  {
   "cell_type": "code",
   "execution_count": 8,
   "id": "838fac06",
   "metadata": {},
   "outputs": [],
   "source": [
    "lab_clean = lab.loc[:,[\n",
    "    'SEQN',             # ID\n",
    "    'LBXGLU',           # Glucose in Blood mg/dL\n",
    "    'LBDINSI',          # Insulin pmol/L\n",
    "    'LBXTC',            # Cholesterol mg/dL\n",
    "    'LBXTR',            # Triglyceride mg/dL\n",
    "    'LBDLDL',           # LDL-cholesterol mg/dL\n",
    "#   'LBXSAL',           # Albumin\n",
    "#   'LBXSATSI',         # Alanine Aminotransferase ALT U/L\n",
    "    'LBXSGTSI',         # Gamma glutamyl transferase\n",
    "    'LBXSAPSI',         # Alkaline phosphatase (IU/L)\n",
    "    'LBXVIDMS',         # vitamin D2 + D3\n",
    "    'URXUCR',           # Urinary creatinine (mg/dL)\n",
    "    'URXUMA',           # Albumin, urine (ug/mL)\n",
    "    'URDACT'            # Albumin creatinine ratio (mg/g)\n",
    "]]\n",
    "\n",
    "lab_columns = {\n",
    "    'SEQN': 'ID',\n",
    "    'LBXGLU': 'blood_glucose',\n",
    "    'LBDINSI': 'insulin',\n",
    "    'LBXTC': 'cholesterin_lab',\n",
    "    'LBXTR': 'triaclyglycerole',\n",
    "    'LBDLDL': 'ldl',\n",
    "#   'LBXSAL': 'albumin',\n",
    "#   'LBXSATSI': 'ALT',\n",
    "    'LBXSGTSI': 'gamma_glutamyl_transferase',\n",
    "    'LBXSAPSI': 'alkaline_phosphatase',\n",
    "    'LBXVIDMS': 'vit_d_lab',\n",
    "    'URXUCR': 'urinary_creatinine',\n",
    "    'URXUMA': 'albumine',\n",
    "    'URDACT': 'albumine_creatinine_ratio'\n",
    "}\n",
    "\n",
    "lab_clean.rename(columns=lab_columns, inplace = True)"
   ]
  },
  {
   "cell_type": "markdown",
   "id": "d4130a6f",
   "metadata": {},
   "source": [
    "Questionaire data fltering"
   ]
  },
  {
   "cell_type": "code",
   "execution_count": 9,
   "id": "d7024e93",
   "metadata": {},
   "outputs": [],
   "source": [
    "quest_clean = quest.loc[:,[\n",
    "    'SEQN',                 # ID\n",
    "    'PAQ620',               # Work with physical activity?\n",
    "    'PAD680',               # Time spent sitting\n",
    "    'PAD675',               # Time spent doing physical activities / day\n",
    "    'PAQ640',               # Days on which you bike or walk more than 10 mins/week\n",
    "    'MCQ010',               # Asthma?\n",
    "    'MCQ080',               # Has a Doctor ever said: \"you are overweight!\" ?\n",
    "    'MCQ220',               # Has a Doctor ever said: \"You have cancer\" ?\n",
    "    'SMQ040',               # Do you smoke?\n",
    "    'ALQ130',               # On avg how many drinks on days you drank alcohol?\n",
    "    'SLQ050',               # Ever told a doctor: Trouble sleeping?\n",
    "    'DIQ010'                # Has a Doctor ever told you: \"You have Diabetes\"?\n",
    "    ]]\n",
    "\n",
    "\n",
    "quest_columns = {\n",
    "    'SEQN': 'ID',\n",
    "    'PAQ620': 'physical_activity_work',\n",
    "    'PAD680': 'sitting_per_day',\n",
    "    'ALQ130': 'alcoholic_drinks',\n",
    "    'SMQ040': 'smoker',\n",
    "    'PAD675': 'sport_days',\n",
    "    'PAQ640': 'walk_<10_minutes_p_day',\n",
    "    'MCQ010': 'asthma',\n",
    "    'MCQ080': 'overweight',\n",
    "    'MCQ220': 'cancer',\n",
    "    'SLQ050': 'trouble_sleeping',\n",
    "    'DIQ010': 'diabetes'\n",
    "}\n",
    "quest_clean.rename(columns=quest_columns, inplace = True)"
   ]
  },
  {
   "cell_type": "markdown",
   "id": "e4a124a4",
   "metadata": {},
   "source": [
    "Checking for Duplicates"
   ]
  },
  {
   "cell_type": "code",
   "execution_count": 47,
   "id": "12816b6a",
   "metadata": {},
   "outputs": [
    {
     "name": "stdout",
     "output_type": "stream",
     "text": [
      "(9971, 13)\n",
      "False    9971\n",
      "Name: count, dtype: int64\n"
     ]
    }
   ],
   "source": [
    "print(demo_clean.shape)\n",
    "print(demo_clean.duplicated().value_counts())"
   ]
  },
  {
   "cell_type": "code",
   "execution_count": 48,
   "id": "506f37e2",
   "metadata": {},
   "outputs": [
    {
     "name": "stdout",
     "output_type": "stream",
     "text": [
      "(9544, 8)\n",
      "False    9544\n",
      "Name: count, dtype: int64\n"
     ]
    }
   ],
   "source": [
    "print(exam_clean.shape)\n",
    "print(exam_clean.duplicated().value_counts())"
   ]
  },
  {
   "cell_type": "code",
   "execution_count": 49,
   "id": "c0daba64",
   "metadata": {},
   "outputs": [
    {
     "name": "stdout",
     "output_type": "stream",
     "text": [
      "(9971, 12)\n",
      "False    9971\n",
      "Name: count, dtype: int64\n"
     ]
    }
   ],
   "source": [
    "print(quest_clean.shape)\n",
    "print(quest_clean.duplicated().value_counts())"
   ]
  },
  {
   "cell_type": "code",
   "execution_count": null,
   "id": "89df64ce",
   "metadata": {},
   "outputs": [],
   "source": [
    "print(diet_clean.shape)\n",
    "print(diet_clean.duplicated().value_counts())"
   ]
  },
  {
   "cell_type": "code",
   "execution_count": 50,
   "id": "84de49a7",
   "metadata": {},
   "outputs": [
    {
     "name": "stdout",
     "output_type": "stream",
     "text": [
      "(9544, 12)\n",
      "False    9544\n",
      "Name: count, dtype: int64\n"
     ]
    }
   ],
   "source": [
    "print(lab_clean.shape)\n",
    "print(lab_clean.duplicated().value_counts())"
   ]
  },
  {
   "cell_type": "markdown",
   "id": "15244e16",
   "metadata": {},
   "source": [
    "Merging all dataframes"
   ]
  },
  {
   "cell_type": "code",
   "execution_count": 51,
   "id": "399fd691",
   "metadata": {},
   "outputs": [],
   "source": [
    "\n",
    "data_merged = demo_clean.merge(diet_clean, how = 'inner', on=\"ID\").merge(exam_clean, how='inner', on='ID').merge(lab_clean, how='inner', on='ID').merge(quest_clean, how='inner', on='ID')"
   ]
  },
  {
   "cell_type": "code",
   "execution_count": 52,
   "id": "a5c97201",
   "metadata": {},
   "outputs": [
    {
     "data": {
      "text/html": [
       "<div>\n",
       "<style scoped>\n",
       "    .dataframe tbody tr th:only-of-type {\n",
       "        vertical-align: middle;\n",
       "    }\n",
       "\n",
       "    .dataframe tbody tr th {\n",
       "        vertical-align: top;\n",
       "    }\n",
       "\n",
       "    .dataframe thead th {\n",
       "        text-align: right;\n",
       "    }\n",
       "</style>\n",
       "<table border=\"1\" class=\"dataframe\">\n",
       "  <thead>\n",
       "    <tr style=\"text-align: right;\">\n",
       "      <th></th>\n",
       "      <th>ID</th>\n",
       "      <th>gender</th>\n",
       "      <th>age</th>\n",
       "      <th>ethnicity</th>\n",
       "      <th>country_of_birth</th>\n",
       "      <th>us_citizen</th>\n",
       "      <th>high_school_deg</th>\n",
       "      <th>college_deg</th>\n",
       "      <th>household_size</th>\n",
       "      <th>no_of_kids_u6</th>\n",
       "      <th>...</th>\n",
       "      <th>sitting_per_day</th>\n",
       "      <th>sport_days</th>\n",
       "      <th>walk_&lt;10_minutes_p_day</th>\n",
       "      <th>asthma</th>\n",
       "      <th>overweight</th>\n",
       "      <th>cancer</th>\n",
       "      <th>smoker</th>\n",
       "      <th>alcoholic_drinks</th>\n",
       "      <th>trouble_sleeping</th>\n",
       "      <th>diabetes</th>\n",
       "    </tr>\n",
       "  </thead>\n",
       "  <tbody>\n",
       "    <tr>\n",
       "      <th>0</th>\n",
       "      <td>83732.0</td>\n",
       "      <td>1.0</td>\n",
       "      <td>62.0</td>\n",
       "      <td>3.0</td>\n",
       "      <td>1.0</td>\n",
       "      <td>1.0</td>\n",
       "      <td>5.0</td>\n",
       "      <td>NaN</td>\n",
       "      <td>2.0</td>\n",
       "      <td>0.0</td>\n",
       "      <td>...</td>\n",
       "      <td>480.0</td>\n",
       "      <td>30.0</td>\n",
       "      <td>NaN</td>\n",
       "      <td>2.0</td>\n",
       "      <td>1.0</td>\n",
       "      <td>1.0</td>\n",
       "      <td>3.0</td>\n",
       "      <td>1.0</td>\n",
       "      <td>1.0</td>\n",
       "      <td>1.0</td>\n",
       "    </tr>\n",
       "    <tr>\n",
       "      <th>1</th>\n",
       "      <td>83733.0</td>\n",
       "      <td>1.0</td>\n",
       "      <td>53.0</td>\n",
       "      <td>3.0</td>\n",
       "      <td>2.0</td>\n",
       "      <td>2.0</td>\n",
       "      <td>3.0</td>\n",
       "      <td>NaN</td>\n",
       "      <td>1.0</td>\n",
       "      <td>0.0</td>\n",
       "      <td>...</td>\n",
       "      <td>300.0</td>\n",
       "      <td>NaN</td>\n",
       "      <td>NaN</td>\n",
       "      <td>2.0</td>\n",
       "      <td>2.0</td>\n",
       "      <td>2.0</td>\n",
       "      <td>1.0</td>\n",
       "      <td>6.0</td>\n",
       "      <td>2.0</td>\n",
       "      <td>2.0</td>\n",
       "    </tr>\n",
       "    <tr>\n",
       "      <th>2</th>\n",
       "      <td>83734.0</td>\n",
       "      <td>1.0</td>\n",
       "      <td>78.0</td>\n",
       "      <td>3.0</td>\n",
       "      <td>1.0</td>\n",
       "      <td>1.0</td>\n",
       "      <td>3.0</td>\n",
       "      <td>NaN</td>\n",
       "      <td>2.0</td>\n",
       "      <td>0.0</td>\n",
       "      <td>...</td>\n",
       "      <td>480.0</td>\n",
       "      <td>NaN</td>\n",
       "      <td>NaN</td>\n",
       "      <td>1.0</td>\n",
       "      <td>1.0</td>\n",
       "      <td>1.0</td>\n",
       "      <td>3.0</td>\n",
       "      <td>NaN</td>\n",
       "      <td>2.0</td>\n",
       "      <td>1.0</td>\n",
       "    </tr>\n",
       "    <tr>\n",
       "      <th>3</th>\n",
       "      <td>83735.0</td>\n",
       "      <td>2.0</td>\n",
       "      <td>56.0</td>\n",
       "      <td>3.0</td>\n",
       "      <td>1.0</td>\n",
       "      <td>1.0</td>\n",
       "      <td>5.0</td>\n",
       "      <td>NaN</td>\n",
       "      <td>1.0</td>\n",
       "      <td>0.0</td>\n",
       "      <td>...</td>\n",
       "      <td>480.0</td>\n",
       "      <td>NaN</td>\n",
       "      <td>NaN</td>\n",
       "      <td>2.0</td>\n",
       "      <td>1.0</td>\n",
       "      <td>2.0</td>\n",
       "      <td>NaN</td>\n",
       "      <td>1.0</td>\n",
       "      <td>1.0</td>\n",
       "      <td>2.0</td>\n",
       "    </tr>\n",
       "    <tr>\n",
       "      <th>4</th>\n",
       "      <td>83736.0</td>\n",
       "      <td>2.0</td>\n",
       "      <td>42.0</td>\n",
       "      <td>4.0</td>\n",
       "      <td>1.0</td>\n",
       "      <td>1.0</td>\n",
       "      <td>4.0</td>\n",
       "      <td>NaN</td>\n",
       "      <td>5.0</td>\n",
       "      <td>0.0</td>\n",
       "      <td>...</td>\n",
       "      <td>540.0</td>\n",
       "      <td>NaN</td>\n",
       "      <td>NaN</td>\n",
       "      <td>1.0</td>\n",
       "      <td>2.0</td>\n",
       "      <td>2.0</td>\n",
       "      <td>NaN</td>\n",
       "      <td>1.0</td>\n",
       "      <td>1.0</td>\n",
       "      <td>2.0</td>\n",
       "    </tr>\n",
       "    <tr>\n",
       "      <th>...</th>\n",
       "      <td>...</td>\n",
       "      <td>...</td>\n",
       "      <td>...</td>\n",
       "      <td>...</td>\n",
       "      <td>...</td>\n",
       "      <td>...</td>\n",
       "      <td>...</td>\n",
       "      <td>...</td>\n",
       "      <td>...</td>\n",
       "      <td>...</td>\n",
       "      <td>...</td>\n",
       "      <td>...</td>\n",
       "      <td>...</td>\n",
       "      <td>...</td>\n",
       "      <td>...</td>\n",
       "      <td>...</td>\n",
       "      <td>...</td>\n",
       "      <td>...</td>\n",
       "      <td>...</td>\n",
       "      <td>...</td>\n",
       "      <td>...</td>\n",
       "    </tr>\n",
       "    <tr>\n",
       "      <th>9539</th>\n",
       "      <td>93698.0</td>\n",
       "      <td>1.0</td>\n",
       "      <td>2.0</td>\n",
       "      <td>1.0</td>\n",
       "      <td>1.0</td>\n",
       "      <td>1.0</td>\n",
       "      <td>NaN</td>\n",
       "      <td>NaN</td>\n",
       "      <td>7.0</td>\n",
       "      <td>3.0</td>\n",
       "      <td>...</td>\n",
       "      <td>NaN</td>\n",
       "      <td>NaN</td>\n",
       "      <td>NaN</td>\n",
       "      <td>2.0</td>\n",
       "      <td>NaN</td>\n",
       "      <td>NaN</td>\n",
       "      <td>NaN</td>\n",
       "      <td>NaN</td>\n",
       "      <td>NaN</td>\n",
       "      <td>2.0</td>\n",
       "    </tr>\n",
       "    <tr>\n",
       "      <th>9540</th>\n",
       "      <td>93699.0</td>\n",
       "      <td>2.0</td>\n",
       "      <td>6.0</td>\n",
       "      <td>4.0</td>\n",
       "      <td>1.0</td>\n",
       "      <td>1.0</td>\n",
       "      <td>NaN</td>\n",
       "      <td>0.0</td>\n",
       "      <td>5.0</td>\n",
       "      <td>0.0</td>\n",
       "      <td>...</td>\n",
       "      <td>NaN</td>\n",
       "      <td>NaN</td>\n",
       "      <td>NaN</td>\n",
       "      <td>2.0</td>\n",
       "      <td>NaN</td>\n",
       "      <td>NaN</td>\n",
       "      <td>NaN</td>\n",
       "      <td>NaN</td>\n",
       "      <td>NaN</td>\n",
       "      <td>2.0</td>\n",
       "    </tr>\n",
       "    <tr>\n",
       "      <th>9541</th>\n",
       "      <td>93700.0</td>\n",
       "      <td>1.0</td>\n",
       "      <td>35.0</td>\n",
       "      <td>3.0</td>\n",
       "      <td>2.0</td>\n",
       "      <td>2.0</td>\n",
       "      <td>1.0</td>\n",
       "      <td>NaN</td>\n",
       "      <td>5.0</td>\n",
       "      <td>0.0</td>\n",
       "      <td>...</td>\n",
       "      <td>600.0</td>\n",
       "      <td>NaN</td>\n",
       "      <td>NaN</td>\n",
       "      <td>2.0</td>\n",
       "      <td>9.0</td>\n",
       "      <td>2.0</td>\n",
       "      <td>1.0</td>\n",
       "      <td>NaN</td>\n",
       "      <td>1.0</td>\n",
       "      <td>2.0</td>\n",
       "    </tr>\n",
       "    <tr>\n",
       "      <th>9542</th>\n",
       "      <td>93701.0</td>\n",
       "      <td>1.0</td>\n",
       "      <td>8.0</td>\n",
       "      <td>3.0</td>\n",
       "      <td>1.0</td>\n",
       "      <td>1.0</td>\n",
       "      <td>NaN</td>\n",
       "      <td>2.0</td>\n",
       "      <td>4.0</td>\n",
       "      <td>0.0</td>\n",
       "      <td>...</td>\n",
       "      <td>NaN</td>\n",
       "      <td>NaN</td>\n",
       "      <td>NaN</td>\n",
       "      <td>2.0</td>\n",
       "      <td>NaN</td>\n",
       "      <td>NaN</td>\n",
       "      <td>NaN</td>\n",
       "      <td>NaN</td>\n",
       "      <td>NaN</td>\n",
       "      <td>2.0</td>\n",
       "    </tr>\n",
       "    <tr>\n",
       "      <th>9543</th>\n",
       "      <td>93702.0</td>\n",
       "      <td>2.0</td>\n",
       "      <td>24.0</td>\n",
       "      <td>3.0</td>\n",
       "      <td>1.0</td>\n",
       "      <td>1.0</td>\n",
       "      <td>5.0</td>\n",
       "      <td>NaN</td>\n",
       "      <td>3.0</td>\n",
       "      <td>0.0</td>\n",
       "      <td>...</td>\n",
       "      <td>600.0</td>\n",
       "      <td>60.0</td>\n",
       "      <td>5.0</td>\n",
       "      <td>2.0</td>\n",
       "      <td>2.0</td>\n",
       "      <td>2.0</td>\n",
       "      <td>NaN</td>\n",
       "      <td>2.0</td>\n",
       "      <td>2.0</td>\n",
       "      <td>2.0</td>\n",
       "    </tr>\n",
       "  </tbody>\n",
       "</table>\n",
       "<p>9544 rows × 69 columns</p>\n",
       "</div>"
      ],
      "text/plain": [
       "           ID  gender   age  ethnicity  country_of_birth  us_citizen  \\\n",
       "0     83732.0     1.0  62.0        3.0               1.0         1.0   \n",
       "1     83733.0     1.0  53.0        3.0               2.0         2.0   \n",
       "2     83734.0     1.0  78.0        3.0               1.0         1.0   \n",
       "3     83735.0     2.0  56.0        3.0               1.0         1.0   \n",
       "4     83736.0     2.0  42.0        4.0               1.0         1.0   \n",
       "...       ...     ...   ...        ...               ...         ...   \n",
       "9539  93698.0     1.0   2.0        1.0               1.0         1.0   \n",
       "9540  93699.0     2.0   6.0        4.0               1.0         1.0   \n",
       "9541  93700.0     1.0  35.0        3.0               2.0         2.0   \n",
       "9542  93701.0     1.0   8.0        3.0               1.0         1.0   \n",
       "9543  93702.0     2.0  24.0        3.0               1.0         1.0   \n",
       "\n",
       "      high_school_deg  college_deg  household_size  no_of_kids_u6  ...  \\\n",
       "0                 5.0          NaN             2.0            0.0  ...   \n",
       "1                 3.0          NaN             1.0            0.0  ...   \n",
       "2                 3.0          NaN             2.0            0.0  ...   \n",
       "3                 5.0          NaN             1.0            0.0  ...   \n",
       "4                 4.0          NaN             5.0            0.0  ...   \n",
       "...               ...          ...             ...            ...  ...   \n",
       "9539              NaN          NaN             7.0            3.0  ...   \n",
       "9540              NaN          0.0             5.0            0.0  ...   \n",
       "9541              1.0          NaN             5.0            0.0  ...   \n",
       "9542              NaN          2.0             4.0            0.0  ...   \n",
       "9543              5.0          NaN             3.0            0.0  ...   \n",
       "\n",
       "      sitting_per_day  sport_days  walk_<10_minutes_p_day  asthma  overweight  \\\n",
       "0               480.0        30.0                     NaN     2.0         1.0   \n",
       "1               300.0         NaN                     NaN     2.0         2.0   \n",
       "2               480.0         NaN                     NaN     1.0         1.0   \n",
       "3               480.0         NaN                     NaN     2.0         1.0   \n",
       "4               540.0         NaN                     NaN     1.0         2.0   \n",
       "...               ...         ...                     ...     ...         ...   \n",
       "9539              NaN         NaN                     NaN     2.0         NaN   \n",
       "9540              NaN         NaN                     NaN     2.0         NaN   \n",
       "9541            600.0         NaN                     NaN     2.0         9.0   \n",
       "9542              NaN         NaN                     NaN     2.0         NaN   \n",
       "9543            600.0        60.0                     5.0     2.0         2.0   \n",
       "\n",
       "      cancer  smoker  alcoholic_drinks  trouble_sleeping  diabetes  \n",
       "0        1.0     3.0               1.0               1.0       1.0  \n",
       "1        2.0     1.0               6.0               2.0       2.0  \n",
       "2        1.0     3.0               NaN               2.0       1.0  \n",
       "3        2.0     NaN               1.0               1.0       2.0  \n",
       "4        2.0     NaN               1.0               1.0       2.0  \n",
       "...      ...     ...               ...               ...       ...  \n",
       "9539     NaN     NaN               NaN               NaN       2.0  \n",
       "9540     NaN     NaN               NaN               NaN       2.0  \n",
       "9541     2.0     1.0               NaN               1.0       2.0  \n",
       "9542     NaN     NaN               NaN               NaN       2.0  \n",
       "9543     2.0     NaN               2.0               2.0       2.0  \n",
       "\n",
       "[9544 rows x 69 columns]"
      ]
     },
     "execution_count": 52,
     "metadata": {},
     "output_type": "execute_result"
    }
   ],
   "source": [
    "data_merged"
   ]
  },
  {
   "cell_type": "markdown",
   "id": "f97650e3",
   "metadata": {},
   "source": [
    "# De-encode Result-values"
   ]
  },
  {
   "cell_type": "code",
   "execution_count": 38,
   "id": "39d9c541",
   "metadata": {},
   "outputs": [
    {
     "name": "stdout",
     "output_type": "stream",
     "text": [
      "walk_<10_minutes_p_day        7823\n",
      "college_deg                   6998\n",
      "ldl                           6845\n",
      "triaclyglycerole              6821\n",
      "sport_days                    6695\n",
      "insulin                       6623\n",
      "blood_glucose                 6572\n",
      "alcoholic_drinks              6165\n",
      "alkaline_phosphatase          3289\n",
      "gamma_glutamyl_transferase    3288\n",
      "sitting_per_day               2857\n",
      "systolic_bp                   2399\n",
      "diastolic_bp                  2399\n",
      "cholesterin_lab               2288\n",
      "vit_d_lab                     1505\n",
      "albumine                      1264\n",
      "urinary_creatinine            1264\n",
      "albumine_creatinine_ratio     1264\n",
      "waist_circumference           1231\n",
      "vit_b9                        1217\n",
      "caffeine                      1217\n",
      "potassium                     1217\n",
      "sodium                        1217\n",
      "zinc                          1217\n",
      "iron                          1217\n",
      "vit_e                         1217\n",
      "vit_d_diet                    1217\n",
      "vit_c                         1217\n",
      "vit_b12                       1217\n",
      "calcium                       1217\n",
      "vit_b3                        1217\n",
      "pufa                          1217\n",
      "daily_calories                1217\n",
      "total_protein                 1217\n",
      "total_carbohydrates           1217\n",
      "total_sugar                   1217\n",
      "vit_b2                        1217\n",
      "mufa                          1217\n",
      "total_fat                     1217\n",
      "cholesterin_diet              1217\n",
      "total_fiber                   1217\n",
      "vit_b1                        1217\n",
      "total_alcohol                 1217\n",
      "vit_a                         1217\n",
      "vit_b6                        1217\n",
      "total_water                   1038\n",
      "bmi                            788\n",
      "height                         775\n",
      "total_income                   267\n",
      "pulse                          230\n",
      "weight                          99\n",
      "dtype: int64\n"
     ]
    }
   ],
   "source": [
    "missing = data_merged.isnull().sum().sort_values(ascending=False)\n",
    "print(missing[missing > 0])"
   ]
  },
  {
   "cell_type": "code",
   "execution_count": 32,
   "id": "dfd7656b",
   "metadata": {},
   "outputs": [],
   "source": [
    "int_list = [\n",
    "    \"ID\", \"age\", \"no_of_kids_u6\", \"household_size\",\n",
    "    \"no_of_kids_btw_6_17\",\n",
    "    \"sport_days\", \"sitting_per_day\",\n",
    "    \"walk_<10_minutes_p_day\", \"alcoholic_drinks\"\n",
    "]\n",
    "\n",
    "data_merged.loc[:,int_list] = data_merged.loc[:,int_list].astype('Int64')"
   ]
  },
  {
   "cell_type": "code",
   "execution_count": null,
   "id": "cdfd7b7f",
   "metadata": {},
   "outputs": [],
   "source": [
    "# 777, 7777, 999 & 9999 are unknown or refused to say. for simplicity purposes we set all of these to 0\n",
    "data_merged.replace([777, 999, 7777, 9999], 0, inplace=True)"
   ]
  },
  {
   "cell_type": "code",
   "execution_count": 14,
   "id": "44d72d68",
   "metadata": {},
   "outputs": [],
   "source": [
    "str_list = [\n",
    "       'gender',\n",
    "       'country_of_birth',\n",
    "       'us_citizen',\n",
    "       'ethnicity',\n",
    "       'high_school_deg',\n",
    "       'pregnancy_status',\n",
    "       'physical_activity_work',\n",
    "       'asthma',\n",
    "       'overweight',\n",
    "       'cancer',\n",
    "       'smoker',\n",
    "       'trouble_sleeping',\n",
    "       'diabetes']\n",
    "\n",
    "data_merged[str_list] = data_merged[str_list].astype('str')"
   ]
  },
  {
   "cell_type": "code",
   "execution_count": 40,
   "id": "d9ccf745",
   "metadata": {},
   "outputs": [
    {
     "name": "stdout",
     "output_type": "stream",
     "text": [
      "<class 'pandas.core.frame.DataFrame'>\n",
      "RangeIndex: 9544 entries, 0 to 9543\n",
      "Data columns (total 69 columns):\n",
      " #   Column                      Non-Null Count  Dtype  \n",
      "---  ------                      --------------  -----  \n",
      " 0   ID                          9544 non-null   float64\n",
      " 1   gender                      9544 non-null   object \n",
      " 2   age                         9544 non-null   float64\n",
      " 3   ethnicity                   9544 non-null   object \n",
      " 4   country_of_birth            9544 non-null   object \n",
      " 5   us_citizen                  9544 non-null   object \n",
      " 6   high_school_deg             9544 non-null   object \n",
      " 7   college_deg                 2546 non-null   float64\n",
      " 8   household_size              9544 non-null   float64\n",
      " 9   no_of_kids_u6               9544 non-null   float64\n",
      " 10  no_of_kids_btw_6_17         9544 non-null   float64\n",
      " 11  total_income                9277 non-null   float64\n",
      " 12  pregnancy_status            9544 non-null   object \n",
      " 13  daily_calories              8327 non-null   float64\n",
      " 14  total_protein               8327 non-null   float64\n",
      " 15  total_carbohydrates         8327 non-null   float64\n",
      " 16  total_sugar                 8327 non-null   float64\n",
      " 17  total_water                 8506 non-null   float64\n",
      " 18  total_fat                   8327 non-null   float64\n",
      " 19  mufa                        8327 non-null   float64\n",
      " 20  pufa                        8327 non-null   float64\n",
      " 21  cholesterin_diet            8327 non-null   float64\n",
      " 22  total_fiber                 8327 non-null   float64\n",
      " 23  total_alcohol               8327 non-null   float64\n",
      " 24  vit_a                       8327 non-null   float64\n",
      " 25  vit_b1                      8327 non-null   float64\n",
      " 26  vit_b2                      8327 non-null   float64\n",
      " 27  vit_b3                      8327 non-null   float64\n",
      " 28  vit_b6                      8327 non-null   float64\n",
      " 29  vit_b9                      8327 non-null   float64\n",
      " 30  vit_b12                     8327 non-null   float64\n",
      " 31  vit_c                       8327 non-null   float64\n",
      " 32  vit_d_diet                  8327 non-null   float64\n",
      " 33  vit_e                       8327 non-null   float64\n",
      " 34  calcium                     8327 non-null   float64\n",
      " 35  iron                        8327 non-null   float64\n",
      " 36  zinc                        8327 non-null   float64\n",
      " 37  sodium                      8327 non-null   float64\n",
      " 38  potassium                   8327 non-null   float64\n",
      " 39  caffeine                    8327 non-null   float64\n",
      " 40  weight                      9445 non-null   float64\n",
      " 41  height                      8769 non-null   float64\n",
      " 42  bmi                         8756 non-null   float64\n",
      " 43  waist_circumference         8313 non-null   float64\n",
      " 44  systolic_bp                 7145 non-null   float64\n",
      " 45  diastolic_bp                7145 non-null   float64\n",
      " 46  pulse                       9314 non-null   float64\n",
      " 47  blood_glucose               2972 non-null   float64\n",
      " 48  insulin                     2921 non-null   float64\n",
      " 49  cholesterin_lab             7256 non-null   float64\n",
      " 50  triaclyglycerole            2723 non-null   float64\n",
      " 51  ldl                         2699 non-null   float64\n",
      " 52  gamma_glutamyl_transferase  6256 non-null   float64\n",
      " 53  alkaline_phosphatase        6255 non-null   float64\n",
      " 54  vit_d_lab                   8039 non-null   float64\n",
      " 55  urinary_creatinine          8280 non-null   float64\n",
      " 56  albumine                    8280 non-null   float64\n",
      " 57  albumine_creatinine_ratio   8280 non-null   float64\n",
      " 58  physical_activity_work      9544 non-null   object \n",
      " 59  sitting_per_day             6687 non-null   Int64  \n",
      " 60  sport_days                  2849 non-null   Int64  \n",
      " 61  walk_<10_minutes_p_day      1721 non-null   Int64  \n",
      " 62  asthma                      9544 non-null   object \n",
      " 63  overweight                  9544 non-null   object \n",
      " 64  cancer                      9544 non-null   object \n",
      " 65  smoker                      9544 non-null   object \n",
      " 66  alcoholic_drinks            3379 non-null   Int64  \n",
      " 67  trouble_sleeping            9544 non-null   object \n",
      " 68  diabetes                    9544 non-null   object \n",
      "dtypes: Int64(4), float64(52), object(13)\n",
      "memory usage: 5.1+ MB\n"
     ]
    }
   ],
   "source": [
    "data_merged.info()"
   ]
  },
  {
   "cell_type": "code",
   "execution_count": null,
   "id": "533a814a",
   "metadata": {},
   "outputs": [
    {
     "data": {
      "text/plain": [
       "0          USA\n",
       "1       others\n",
       "2          USA\n",
       "3          USA\n",
       "4          USA\n",
       "         ...  \n",
       "9539       USA\n",
       "9540       USA\n",
       "9541    others\n",
       "9542       USA\n",
       "9543       USA\n",
       "Name: country_of_birth, Length: 9544, dtype: object"
      ]
     },
     "execution_count": 15,
     "metadata": {},
     "output_type": "execute_result"
    }
   ],
   "source": [
    "# country of birth:\n",
    "# 1: born in usa\n",
    "# 2: others\n",
    "# 77 refused\n",
    "# 99 dont know\n",
    "# . missing\n",
    "\n",
    "data_merged['country_of_birth'] = data_merged['country_of_birth'].map({\n",
    "    '1.0': 'USA',\n",
    "    '2.0': 'others'\n",
    "}).fillna('unknown')\n",
    "\n",
    "data_merged['country_of_birth']"
   ]
  },
  {
   "cell_type": "code",
   "execution_count": 16,
   "id": "6a5bbe6f",
   "metadata": {},
   "outputs": [
    {
     "data": {
      "text/plain": [
       "us_citizen\n",
       "US-citizen       9527\n",
       "unknown             9\n",
       "not a citizen       8\n",
       "Name: count, dtype: int64"
      ]
     },
     "execution_count": 16,
     "metadata": {},
     "output_type": "execute_result"
    }
   ],
   "source": [
    "# citizen:\\\n",
    "# 1 born in the usa\\\n",
    "# 2 durch einbürgerung\\\n",
    "# 7 kein us-bürger\\\n",
    "# 9 keine angabe\n",
    "\n",
    "data_merged['us_citizen'] = data_merged['us_citizen'].map({\n",
    "    '1.0': 'US-citizen',\n",
    "    '2.0': 'US-citizen',\n",
    "    '7.0': 'not a citizen',\n",
    "    '9.0': 'unknown'\n",
    "}).fillna('unknown')\n",
    "data_merged['us_citizen'].value_counts()"
   ]
  },
  {
   "cell_type": "code",
   "execution_count": 17,
   "id": "e9973642",
   "metadata": {},
   "outputs": [
    {
     "data": {
      "text/plain": [
       "pregnancy_status\n",
       "unknown         8349\n",
       "not pregnant    1125\n",
       "pregnant          70\n",
       "Name: count, dtype: int64"
      ]
     },
     "execution_count": 17,
     "metadata": {},
     "output_type": "execute_result"
    }
   ],
   "source": [
    "# pregnancy status:\\\n",
    "# 1: yes\\\n",
    "# 2: not pregnant at exam\\\n",
    "# 3: unsure\n",
    "\n",
    "data_merged['pregnancy_status'] = data_merged['pregnancy_status'].map({\n",
    "    '1.0': 'pregnant',\n",
    "    '2.0': 'not pregnant',\n",
    "    '3.0': 'unknown'\n",
    "}).fillna('unknown')\n",
    "data_merged['pregnancy_status'].value_counts()\n"
   ]
  },
  {
   "cell_type": "code",
   "execution_count": 18,
   "id": "50b4bc03",
   "metadata": {},
   "outputs": [
    {
     "data": {
      "text/plain": [
       "physical_activity_work\n",
       "no         4186\n",
       "unknown    2847\n",
       "yes        2511\n",
       "Name: count, dtype: int64"
      ]
     },
     "execution_count": 18,
     "metadata": {},
     "output_type": "execute_result"
    }
   ],
   "source": [
    "# physical activity at work\\\n",
    "# 1 yes\\\n",
    "# 2 no\\\n",
    "# 7 refused\\\n",
    "# 9 dont know\\\n",
    "# . missing\n",
    "\n",
    "data_merged['physical_activity_work'] = data_merged['physical_activity_work'].map({\n",
    "    '1.0': 'yes',\n",
    "    '2.0': 'no',\n",
    "    '9.0': 'unknown',\n",
    "    '7.0': 'unknown'\n",
    "}).fillna('unknown')\n",
    "data_merged['physical_activity_work'].value_counts()"
   ]
  },
  {
   "cell_type": "code",
   "execution_count": 19,
   "id": "bda87afe",
   "metadata": {},
   "outputs": [
    {
     "data": {
      "text/plain": [
       "smoker\n",
       "unknown       7225\n",
       "not at all    1264\n",
       "every day      798\n",
       "some days      257\n",
       "Name: count, dtype: int64"
      ]
     },
     "execution_count": 19,
     "metadata": {},
     "output_type": "execute_result"
    }
   ],
   "source": [
    "# SMQ040 - smoker\n",
    "# 1 every day\n",
    "# 2 some days\n",
    "# 3 not at all\n",
    "# 7 refused\n",
    "# 9 dont know\n",
    "# . missing\n",
    "\n",
    "data_merged['smoker'] = data_merged['smoker'].map({\n",
    "    '1.0': 'every day',\n",
    "    '2.0': 'some days',\n",
    "    '3.0': 'not at all',\n",
    "    '9.0': 'unknown',\n",
    "    '7.0': 'unknown'\n",
    "}).fillna('unknown')\n",
    "\n",
    "data_merged['smoker'].value_counts()"
   ]
  },
  {
   "cell_type": "code",
   "execution_count": 20,
   "id": "f87fbf6e",
   "metadata": {},
   "outputs": [
    {
     "data": {
      "text/plain": [
       "overweight\n",
       "no         3915\n",
       "unknown    3485\n",
       "yes        2144\n",
       "Name: count, dtype: int64"
      ]
     },
     "execution_count": 20,
     "metadata": {},
     "output_type": "execute_result"
    }
   ],
   "source": [
    "# MCQ080 - overweight\n",
    "# 1 - yes\n",
    "# 2- no\n",
    "# 3- refused\n",
    "# 9 dont know\n",
    "# . missing\n",
    "data_merged['overweight'] = data_merged['overweight'].map({\n",
    "    '1.0': 'yes',\n",
    "    '2.0': 'no',\n",
    "    '3.0': 'refused',\n",
    "    '9.0': 'unknown'\n",
    "}).fillna('unknown')\n",
    "\n",
    "data_merged['overweight'].value_counts()"
   ]
  },
  {
   "cell_type": "code",
   "execution_count": 21,
   "id": "6584f2c2",
   "metadata": {},
   "outputs": [
    {
     "data": {
      "text/plain": [
       "cancer\n",
       "no         4945\n",
       "unknown    4074\n",
       "yes         525\n",
       "Name: count, dtype: int64"
      ]
     },
     "execution_count": 21,
     "metadata": {},
     "output_type": "execute_result"
    }
   ],
   "source": [
    "# MCQ220 - cancer\n",
    "# 1 - yes\n",
    "# 2- no\n",
    "# 3- refused\n",
    "# 9 dont know\n",
    "# . missing\n",
    "\n",
    "data_merged['cancer'] = data_merged['cancer'].map({\n",
    "    '1.0': 'yes',\n",
    "    '2.0': 'no',\n",
    "    '3.0': 'refused',\n",
    "    '9.0': 'unknown'\n",
    "}).fillna('unknown')\n",
    "\n",
    "data_merged['cancer'].value_counts()"
   ]
  },
  {
   "cell_type": "code",
   "execution_count": 22,
   "id": "4e3e9d68",
   "metadata": {},
   "outputs": [
    {
     "data": {
      "text/plain": [
       "asthma\n",
       "no         7778\n",
       "yes        1376\n",
       "unknown     390\n",
       "Name: count, dtype: int64"
      ]
     },
     "execution_count": 22,
     "metadata": {},
     "output_type": "execute_result"
    }
   ],
   "source": [
    "# MCQ010 asthma\n",
    "# 1 - yes\n",
    "# 2- no\n",
    "# 3- refused\n",
    "# 9 dont know\n",
    "# . missing\n",
    "\n",
    "data_merged['asthma'] = data_merged['asthma'].map({\n",
    "    '1.0': 'yes',\n",
    "    '2.0': 'no',\n",
    "    '3.0': 'refused',\n",
    "    '9.0': 'unknown'\n",
    "}).fillna('unknown')\n",
    "\n",
    "data_merged['asthma'].value_counts()"
   ]
  },
  {
   "cell_type": "code",
   "execution_count": 23,
   "id": "1cb660be",
   "metadata": {},
   "outputs": [
    {
     "data": {
      "text/plain": [
       "diabetes\n",
       "no         8200\n",
       "yes         820\n",
       "unknown     383\n",
       "refused     141\n",
       "Name: count, dtype: int64"
      ]
     },
     "execution_count": 23,
     "metadata": {},
     "output_type": "execute_result"
    }
   ],
   "source": [
    "# DIQ010 - diabetes\n",
    "# 1 yes\n",
    "# 2 no\n",
    "# 3 borderline\n",
    "# 7 ref\n",
    "# 9 dont know\n",
    "# . missing\n",
    "\n",
    "data_merged['diabetes'] = data_merged['diabetes'].map({\n",
    "    '1.0': 'yes',\n",
    "    '2.0': 'no',\n",
    "    '3.0': 'refused',\n",
    "    '9.0': 'unknown'\n",
    "}).fillna('unknown')\n",
    "\n",
    "data_merged['diabetes'].value_counts()"
   ]
  },
  {
   "cell_type": "code",
   "execution_count": 24,
   "id": "fb5accdd",
   "metadata": {},
   "outputs": [
    {
     "data": {
      "text/plain": [
       "ethnicity\n",
       "white               2948\n",
       "black               2052\n",
       "mexican american    1837\n",
       "hispanic            1232\n",
       "asian                986\n",
       "others               489\n",
       "Name: count, dtype: int64"
      ]
     },
     "execution_count": 24,
     "metadata": {},
     "output_type": "execute_result"
    }
   ],
   "source": [
    "# ethnicity\n",
    "# 1.0 mexican american\n",
    "# 2.0 other hispanic\n",
    "# 3.0 non-hispanic white\n",
    "# 4.0 non-hispanic black\n",
    "# 6.0 asian\n",
    "# 7.0 others \n",
    "\n",
    "data_merged['ethnicity'] = data_merged['ethnicity'].map({\n",
    "    '1.0': 'mexican american',\n",
    "    '2.0': 'hispanic',\n",
    "    '3.0': 'white',\n",
    "    '4.0': 'black',\n",
    "    '6.0': 'asian',\n",
    "    '7.0': 'others'\n",
    "}).fillna('unknown')\n",
    "data_merged['ethnicity'].value_counts()"
   ]
  },
  {
   "cell_type": "code",
   "execution_count": null,
   "id": "24fbe363",
   "metadata": {},
   "outputs": [],
   "source": [
    "data_merged"
   ]
  },
  {
   "cell_type": "markdown",
   "id": "e8178577",
   "metadata": {},
   "source": [
    "# Ploting "
   ]
  },
  {
   "cell_type": "code",
   "execution_count": 42,
   "id": "c3b726c5",
   "metadata": {},
   "outputs": [
    {
     "data": {
      "text/plain": [
       "<Axes: xlabel='us_citizen', ylabel='weight'>"
      ]
     },
     "execution_count": 42,
     "metadata": {},
     "output_type": "execute_result"
    },
    {
     "data": {
      "image/png": "[encoded data removed]",
      "text/plain": [
       "<Figure size 640x480 with 1 Axes>"
      ]
     },
     "metadata": {},
     "output_type": "display_data"
    }
   ],
   "source": [
    "import seaborn as sns\n",
    "\n",
    "sns.boxplot(data= data_merged, x = 'us_citizen', y='weight')"
   ]
  },
  {
   "cell_type": "code",
   "execution_count": 44,
   "id": "05776ee3",
   "metadata": {},
   "outputs": [
    {
     "data": {
      "image/png": "[encoded data removed]",
      "text/plain": [
       "<Figure size 640x480 with 1 Axes>"
      ]
     },
     "metadata": {},
     "output_type": "display_data"
    }
   ],
   "source": [
    "\n",
    "# Gruppiertes Balkendiagramm\n",
    "sns.countplot(data=data_merged, x='us_citizen', hue='cancer')\n",
    "plt.title('Krebsverteilung nach US-Bürgerschaft')\n",
    "plt.xlabel('US Citizen')\n",
    "plt.ylabel('Anzahl')\n",
    "plt.legend(title='Krebs')\n",
    "plt.show()"
   ]
  },
  {
   "cell_type": "code",
   "execution_count": 43,
   "id": "14efe428",
   "metadata": {},
   "outputs": [
    {
     "data": {
      "image/png": "[encoded data removed]",
      "text/plain": [
       "<Figure size 640x480 with 1 Axes>"
      ]
     },
     "metadata": {},
     "output_type": "display_data"
    }
   ],
   "source": [
    "\n",
    "import matplotlib.pyplot as plt\n",
    "\n",
    "data_diabetes = data_merged.loc[:,['diabetes', 'weight', 'overweight', 'age']]\n",
    "\n",
    "data_diabetes = data_diabetes[((data_diabetes['diabetes'] == 'yes') | (data_diabetes['diabetes'] == 'no')) & (data_diabetes['overweight'] != 'unknown')]\n",
    "\n",
    "# sns.countplot(data_diabetes, x= 'overweight', y='diabetes')\n",
    "\n",
    "import seaborn as sns\n",
    "import matplotlib.pyplot as plt\n",
    "\n",
    "sns.countplot(data=data_diabetes, x='overweight', hue='diabetes')\n",
    "plt.title('Diabetes in Overweight Individuals')\n",
    "plt.xlabel('Overweight')\n",
    "plt.ylabel('Count')\n",
    "plt.legend(title='Diabetes')\n",
    "plt.show()"
   ]
  },
  {
   "cell_type": "code",
   "execution_count": 54,
   "id": "a349ab42",
   "metadata": {},
   "outputs": [
    {
     "data": {
      "text/plain": [
       "ID                     0\n",
       "gender                 0\n",
       "age                    0\n",
       "ethnicity              0\n",
       "country_of_birth       0\n",
       "                    ... \n",
       "cancer              4070\n",
       "smoker              7225\n",
       "alcoholic_drinks    6165\n",
       "trouble_sleeping    3481\n",
       "diabetes             379\n",
       "Length: 69, dtype: int64"
      ]
     },
     "execution_count": 54,
     "metadata": {},
     "output_type": "execute_result"
    }
   ],
   "source": [
    "data_merged.isnull().sum()"
   ]
  },
  {
   "cell_type": "code",
   "execution_count": null,
   "id": "b8bd6604",
   "metadata": {},
   "outputs": [],
   "source": []
  }
 ],
 "metadata": {
  "kernelspec": {
   "display_name": "base",
   "language": "python",
   "name": "python3"
  },
  "language_info": {
   "codemirror_mode": {
    "name": "ipython",
    "version": 3
   },
   "file_extension": ".py",
   "mimetype": "text/x-python",
   "name": "python",
   "nbconvert_exporter": "python",
   "pygments_lexer": "ipython3",
   "version": "3.9.21"
  }
 },
 "nbformat": 4,
 "nbformat_minor": 5
}
